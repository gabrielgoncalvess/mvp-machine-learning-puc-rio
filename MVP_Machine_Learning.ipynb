{
  "cells": [
    {
      "cell_type": "markdown",
      "metadata": {
        "id": "view-in-github",
        "colab_type": "text"
      },
      "source": [
        "<a href=\"https://colab.research.google.com/github/gabrielgoncalvess/mvp-machine-learning-puc-rio/blob/main/MVP_Machine_Learning.ipynb\" target=\"_parent\"><img src=\"https://colab.research.google.com/assets/colab-badge.svg\" alt=\"Open In Colab\"/></a>"
      ]
    },
    {
      "cell_type": "markdown",
      "metadata": {
        "id": "_Ftc19mmFdV5"
      },
      "source": [
        "O Dataset utilizado foi o \"Adult\" da UCI Machine Learning Repository. <br>\n",
        "O conjunto de dados \"Adult\", também conhecido como \"Census Income\" foi extraído de informações coletadas durante o censo dos EUA de 1994.\n",
        "\n",
        "A extração foi feita por Barry Becker do banco de dados do Censo de 1994. Um conjunto de registros razoavelmente limpos foi extraído usando as seguintes condições: ((AAGE>16) && (AGI>100) && (AFNLWGT>1)&& (HRSWK>0)) <br>\n",
        "<strong> A tarefa de previsão é determinar se uma pessoa ganha mais de 50 mil por ano com base em atributos demográficos e de emprego. </strong> <br>\n",
        "<ol>\n",
        "<li> AAGE: Representa a idade do indivíduo. A condição (AAGE > 16) indica que apenas indivíduos maiores de 16 anos foram incluídos. </li>\n",
        "<li> AGI: Embora \"AGI\" geralmente represente \"Adjusted Gross Income\" em contextos fiscais, neste conjunto de dados, parece ser usado para se referir a algum tipo de critério de renda ou ganho. A condição (AGI > 100) sugere que apenas registros com renda ou algum valor numérico relacionado maior que 100 foram selecionados. </li>\n",
        "<li> AFNLWGT: Esta sigla significa \"final weight\" (peso final), que é o número de pessoas que a entrada do censo representa. É um fator de ponderação que reflete a quantidade de pessoas na população que são semelhantes àquela observação no censo. A condição (AFNLWGT > 1) implica que foram considerados apenas registros que representam mais de uma pessoa. </li>\n",
        "<li> HRSWK: Representa as horas trabalhadas por semana (hours per week). A condição (HRSWK > 0) indica que o filtro foi aplicado para incluir somente aqueles que trabalham pelo menos uma hora por semana. </li>\n",
        "</ol>\n",
        "\n",
        "Disponível no link: https://archive.ics.uci.edu/dataset/2/adult"
      ]
    },
    {
      "cell_type": "markdown",
      "metadata": {
        "id": "CMIbiNMQFdV-"
      },
      "source": [
        "Principais características do conjunto de dados Adult:\n",
        "- **Número de Instâncias:** Contém 48.842 registros.\n",
        "- **Número de Atributos:** Possui 14 atributos, incluindo a idade, o tipo de emprego, a educação, o estado civil, a ocupação, o relacionamento, a raça, o sexo, as horas trabalhadas por semana, o país de origem, entre outros. O atributo de renda é binário (>50K, <=50K) e serve como a variável alvo.\n",
        "- **Dados Ausentes:** Alguns atributos contêm valores ausentes.\n",
        "- **Uso:** O conjunto de dados é amplamente utilizado em tarefas de aprendizado de máquina para problemas de classificação binária, especialmente para testar algoritmos de aprendizado supervisionado e técnicas de processamento de dados."
      ]
    },
    {
      "cell_type": "markdown",
      "metadata": {
        "id": "k1swpBIcFdV_"
      },
      "source": [
        "Citação: Becker,Barry and Kohavi,Ronny. (1996). Adult. UCI Machine Learning Repository. https://doi.org/10.24432/C5XW20."
      ]
    },
    {
      "cell_type": "markdown",
      "metadata": {
        "id": "OaT9RviRFdV_"
      },
      "source": [
        "**Definição do Problema**\n",
        "\n",
        "**Objetivo:** O objetivo principal é desenvolver um modelo de machine learning que seja capaz de prever se a renda de um indivíduo excede $50.000 por ano baseado em várias características demográficas e de emprego.\n",
        "<br>\n",
        "\n",
        "**Descrição do Problema**<br>\n",
        "O problema é essencialmente uma tarefa de classificação binária, onde a variável alvo (renda) é categorizada em duas classes:\n",
        "\n",
        "- \\>50K: Indivíduos que ganham mais de $50.000 por ano.\n",
        "- <=50K: Indivíduos que ganham $50.000 por ano ou menos.\n",
        "<br>\n",
        "\n",
        "**Premissas ou Hipóteses sobre o Problema**\n",
        "- **Premissas:**\n",
        "    - A renda de um indivíduo é influenciada por fatores como educação, ocupação, e horas de trabalho semanal.\n",
        "<br>\n",
        "\n",
        "- **Hipóteses:**\n",
        "    - Indivíduos com maior nível de educação tendem a ter rendas mais altas.\n",
        "    - A carga horária semanal é diretamente proporcional à renda.\n",
        "\n",
        "**Restrições ou Condições na Seleção de Dados** <br>\n",
        "- Dados foram filtrados para incluir apenas indivíduos com mais de 16 anos, o que sugere um foco em uma população economicamente ativa.\n",
        "- Foram considerados apenas registros de pessoas que têm uma representatividade significativa (peso final maior que 1) para garantir que os dados reflitam adequadamente a população.\n",
        "- Os indivíduos devem ter uma renda registrada maior que $100 e trabalhar pelo menos uma hora por semana para serem incluídos, filtrando dados que poderiam distorcer análises sobre trabalho e renda.\n",
        "\n",
        "**Descrição do Dataset (Atributos)** <br>\n",
        "- Demográficos: Idade, sexo, raça, estado civil. (age, sex, race, marital-status)\n",
        "- Educação: Nível de educação (como diploma de ensino médio, bacharelado etc.), escolaridade em anos. (education, education-num)\n",
        "- Emprego: Ocupação, tipo de empregador (privado, governo, autônomo, sem pagamento), horas trabalhadas por semana. (occupation, workclass, hours-per-week)\n",
        "- Outros: País de origem, papel do indivíduo na família, raça, capital ganho, capital perdido. (native-country, relationship, capital-gain, capital-loss)\n",
        "- fnlwgt (final weight): O número de pessoas que o censo acredita que a entrada representa. É o peso final que indica quantas pessoas na população dos EUA esse registro representa.\n"
      ]
    },
    {
      "cell_type": "markdown",
      "metadata": {
        "id": "ztmVXGbqFdV_"
      },
      "source": [
        "<strong style=\"font-size:24px;\">OBS: AO FINAL DE CADA CÉLULA DE CÓDIGO MAIS COMPLEXA SERÁ DESCRITA UMA ESTIMATIVA DE TEMPO PARA EXECUÇÃO COMO COMENTÁRIO</strong>\n",
        "\n",
        "<span style=\"font-size:20px;\">Exemplo: # TEMPO ESTIMADO PARA EXECUÇÃO: X min Y seg</span>\n",
        "\n",
        "Códigos com tempo de execução de abaixo de 10 segundos não terão esse comentário"
      ]
    },
    {
      "cell_type": "code",
      "execution_count": null,
      "metadata": {
        "id": "HVUTReSLFdWA"
      },
      "outputs": [],
      "source": [
        "# BibTeX: @misc{misc_adult_2,\n",
        "#   author       = {Becker,Barry and Kohavi,Ronny},\n",
        "#   title        = {{Adult}},\n",
        "#   year         = {1996},\n",
        "#   howpublished = {UCI Machine Learning Repository},\n",
        "#   note         = {{DOI}: https://doi.org/10.24432/C5XW20}\n",
        "# }"
      ]
    },
    {
      "cell_type": "code",
      "execution_count": 1,
      "metadata": {
        "id": "qSzyPRSDFdWB"
      },
      "outputs": [],
      "source": [
        "# Configuração para não exibir os warnings\n",
        "import warnings\n",
        "warnings.filterwarnings(\"ignore\")"
      ]
    },
    {
      "cell_type": "code",
      "execution_count": 2,
      "metadata": {
        "colab": {
          "base_uri": "https://localhost:8080/"
        },
        "id": "JVsvXPCkFdWB",
        "outputId": "13eff3a9-6eb0-4c1b-a96a-b96f88ea92fb"
      },
      "outputs": [
        {
          "output_type": "stream",
          "name": "stdout",
          "text": [
            "Collecting ucimlrepo\n",
            "  Downloading ucimlrepo-0.0.6-py3-none-any.whl (8.0 kB)\n",
            "Installing collected packages: ucimlrepo\n",
            "Successfully installed ucimlrepo-0.0.6\n",
            "{'uci_id': 2, 'name': 'Adult', 'repository_url': 'https://archive.ics.uci.edu/dataset/2/adult', 'data_url': 'https://archive.ics.uci.edu/static/public/2/data.csv', 'abstract': 'Predict whether income exceeds $50K/yr based on census data. Also known as \"Census Income\" dataset. ', 'area': 'Social Science', 'tasks': ['Classification'], 'characteristics': ['Multivariate'], 'num_instances': 48842, 'num_features': 14, 'feature_types': ['Categorical', 'Integer'], 'demographics': ['Age', 'Income', 'Education Level', 'Other', 'Race', 'Sex'], 'target_col': ['income'], 'index_col': None, 'has_missing_values': 'yes', 'missing_values_symbol': 'NaN', 'year_of_dataset_creation': 1996, 'last_updated': 'Mon Aug 07 2023', 'dataset_doi': '10.24432/C5XW20', 'creators': ['Barry Becker', 'Ronny Kohavi'], 'intro_paper': None, 'additional_info': {'summary': 'Extraction was done by Barry Becker from the 1994 Census database.  A set of reasonably clean records was extracted using the following conditions: ((AAGE>16) && (AGI>100) && (AFNLWGT>1)&& (HRSWK>0))\\r\\n\\r\\nPrediction task is to determine whether a person makes over 50K a year.\\r\\n', 'purpose': None, 'funded_by': None, 'instances_represent': None, 'recommended_data_splits': None, 'sensitive_data': None, 'preprocessing_description': None, 'variable_info': 'Listing of attributes:\\r\\n\\r\\n>50K, <=50K.\\r\\n\\r\\nage: continuous.\\r\\nworkclass: Private, Self-emp-not-inc, Self-emp-inc, Federal-gov, Local-gov, State-gov, Without-pay, Never-worked.\\r\\nfnlwgt: continuous.\\r\\neducation: Bachelors, Some-college, 11th, HS-grad, Prof-school, Assoc-acdm, Assoc-voc, 9th, 7th-8th, 12th, Masters, 1st-4th, 10th, Doctorate, 5th-6th, Preschool.\\r\\neducation-num: continuous.\\r\\nmarital-status: Married-civ-spouse, Divorced, Never-married, Separated, Widowed, Married-spouse-absent, Married-AF-spouse.\\r\\noccupation: Tech-support, Craft-repair, Other-service, Sales, Exec-managerial, Prof-specialty, Handlers-cleaners, Machine-op-inspct, Adm-clerical, Farming-fishing, Transport-moving, Priv-house-serv, Protective-serv, Armed-Forces.\\r\\nrelationship: Wife, Own-child, Husband, Not-in-family, Other-relative, Unmarried.\\r\\nrace: White, Asian-Pac-Islander, Amer-Indian-Eskimo, Other, Black.\\r\\nsex: Female, Male.\\r\\ncapital-gain: continuous.\\r\\ncapital-loss: continuous.\\r\\nhours-per-week: continuous.\\r\\nnative-country: United-States, Cambodia, England, Puerto-Rico, Canada, Germany, Outlying-US(Guam-USVI-etc), India, Japan, Greece, South, China, Cuba, Iran, Honduras, Philippines, Italy, Poland, Jamaica, Vietnam, Mexico, Portugal, Ireland, France, Dominican-Republic, Laos, Ecuador, Taiwan, Haiti, Columbia, Hungary, Guatemala, Nicaragua, Scotland, Thailand, Yugoslavia, El-Salvador, Trinadad&Tobago, Peru, Hong, Holand-Netherlands.', 'citation': None}}\n",
            "              name     role         type      demographic  \\\n",
            "0              age  Feature      Integer              Age   \n",
            "1        workclass  Feature  Categorical           Income   \n",
            "2           fnlwgt  Feature      Integer             None   \n",
            "3        education  Feature  Categorical  Education Level   \n",
            "4    education-num  Feature      Integer  Education Level   \n",
            "5   marital-status  Feature  Categorical            Other   \n",
            "6       occupation  Feature  Categorical            Other   \n",
            "7     relationship  Feature  Categorical            Other   \n",
            "8             race  Feature  Categorical             Race   \n",
            "9              sex  Feature       Binary              Sex   \n",
            "10    capital-gain  Feature      Integer             None   \n",
            "11    capital-loss  Feature      Integer             None   \n",
            "12  hours-per-week  Feature      Integer             None   \n",
            "13  native-country  Feature  Categorical            Other   \n",
            "14          income   Target       Binary           Income   \n",
            "\n",
            "                                          description units missing_values  \n",
            "0                                                 N/A  None             no  \n",
            "1   Private, Self-emp-not-inc, Self-emp-inc, Feder...  None            yes  \n",
            "2                                                None  None             no  \n",
            "3    Bachelors, Some-college, 11th, HS-grad, Prof-...  None             no  \n",
            "4                                                None  None             no  \n",
            "5   Married-civ-spouse, Divorced, Never-married, S...  None             no  \n",
            "6   Tech-support, Craft-repair, Other-service, Sal...  None            yes  \n",
            "7   Wife, Own-child, Husband, Not-in-family, Other...  None             no  \n",
            "8   White, Asian-Pac-Islander, Amer-Indian-Eskimo,...  None             no  \n",
            "9                                       Female, Male.  None             no  \n",
            "10                                               None  None             no  \n",
            "11                                               None  None             no  \n",
            "12                                               None  None             no  \n",
            "13  United-States, Cambodia, England, Puerto-Rico,...  None            yes  \n",
            "14                                       >50K, <=50K.  None             no  \n"
          ]
        }
      ],
      "source": [
        "# CÓDIGO FORNECIDO NA PRÓPRIA PÁGINA DO DATASET\n",
        "!pip install ucimlrepo\n",
        "from ucimlrepo import fetch_ucirepo\n",
        "\n",
        "# fetch dataset\n",
        "adult = fetch_ucirepo(id=2)\n",
        "\n",
        "# data (as pandas dataframes)\n",
        "# X = adult.data.features\n",
        "# y = adult.data.targets\n",
        "\n",
        "# metadata\n",
        "print(adult.metadata)\n",
        "\n",
        "# variable information\n",
        "print(adult.variables)\n",
        "\n",
        "# TEMPO ESTIMADO PARA EXECUÇÃO: 30 seg"
      ]
    },
    {
      "cell_type": "code",
      "execution_count": 3,
      "metadata": {
        "colab": {
          "base_uri": "https://localhost:8080/",
          "height": 520
        },
        "id": "WaTIUr9tFdWC",
        "outputId": "10e3fda9-62bd-40a3-f695-dea610a2cdd3"
      },
      "outputs": [
        {
          "output_type": "execute_result",
          "data": {
            "text/plain": [
              "              name     role         type      demographic  \\\n",
              "0              age  Feature      Integer              Age   \n",
              "1        workclass  Feature  Categorical           Income   \n",
              "2           fnlwgt  Feature      Integer             None   \n",
              "3        education  Feature  Categorical  Education Level   \n",
              "4    education-num  Feature      Integer  Education Level   \n",
              "5   marital-status  Feature  Categorical            Other   \n",
              "6       occupation  Feature  Categorical            Other   \n",
              "7     relationship  Feature  Categorical            Other   \n",
              "8             race  Feature  Categorical             Race   \n",
              "9              sex  Feature       Binary              Sex   \n",
              "10    capital-gain  Feature      Integer             None   \n",
              "11    capital-loss  Feature      Integer             None   \n",
              "12  hours-per-week  Feature      Integer             None   \n",
              "13  native-country  Feature  Categorical            Other   \n",
              "14          income   Target       Binary           Income   \n",
              "\n",
              "                                          description units missing_values  \n",
              "0                                                 N/A  None             no  \n",
              "1   Private, Self-emp-not-inc, Self-emp-inc, Feder...  None            yes  \n",
              "2                                                None  None             no  \n",
              "3    Bachelors, Some-college, 11th, HS-grad, Prof-...  None             no  \n",
              "4                                                None  None             no  \n",
              "5   Married-civ-spouse, Divorced, Never-married, S...  None             no  \n",
              "6   Tech-support, Craft-repair, Other-service, Sal...  None            yes  \n",
              "7   Wife, Own-child, Husband, Not-in-family, Other...  None             no  \n",
              "8   White, Asian-Pac-Islander, Amer-Indian-Eskimo,...  None             no  \n",
              "9                                       Female, Male.  None             no  \n",
              "10                                               None  None             no  \n",
              "11                                               None  None             no  \n",
              "12                                               None  None             no  \n",
              "13  United-States, Cambodia, England, Puerto-Rico,...  None            yes  \n",
              "14                                       >50K, <=50K.  None             no  "
            ],
            "text/html": [
              "\n",
              "  <div id=\"df-3e86817c-fa4d-4478-af4e-84066efb77ff\" class=\"colab-df-container\">\n",
              "    <div>\n",
              "<style scoped>\n",
              "    .dataframe tbody tr th:only-of-type {\n",
              "        vertical-align: middle;\n",
              "    }\n",
              "\n",
              "    .dataframe tbody tr th {\n",
              "        vertical-align: top;\n",
              "    }\n",
              "\n",
              "    .dataframe thead th {\n",
              "        text-align: right;\n",
              "    }\n",
              "</style>\n",
              "<table border=\"1\" class=\"dataframe\">\n",
              "  <thead>\n",
              "    <tr style=\"text-align: right;\">\n",
              "      <th></th>\n",
              "      <th>name</th>\n",
              "      <th>role</th>\n",
              "      <th>type</th>\n",
              "      <th>demographic</th>\n",
              "      <th>description</th>\n",
              "      <th>units</th>\n",
              "      <th>missing_values</th>\n",
              "    </tr>\n",
              "  </thead>\n",
              "  <tbody>\n",
              "    <tr>\n",
              "      <th>0</th>\n",
              "      <td>age</td>\n",
              "      <td>Feature</td>\n",
              "      <td>Integer</td>\n",
              "      <td>Age</td>\n",
              "      <td>N/A</td>\n",
              "      <td>None</td>\n",
              "      <td>no</td>\n",
              "    </tr>\n",
              "    <tr>\n",
              "      <th>1</th>\n",
              "      <td>workclass</td>\n",
              "      <td>Feature</td>\n",
              "      <td>Categorical</td>\n",
              "      <td>Income</td>\n",
              "      <td>Private, Self-emp-not-inc, Self-emp-inc, Feder...</td>\n",
              "      <td>None</td>\n",
              "      <td>yes</td>\n",
              "    </tr>\n",
              "    <tr>\n",
              "      <th>2</th>\n",
              "      <td>fnlwgt</td>\n",
              "      <td>Feature</td>\n",
              "      <td>Integer</td>\n",
              "      <td>None</td>\n",
              "      <td>None</td>\n",
              "      <td>None</td>\n",
              "      <td>no</td>\n",
              "    </tr>\n",
              "    <tr>\n",
              "      <th>3</th>\n",
              "      <td>education</td>\n",
              "      <td>Feature</td>\n",
              "      <td>Categorical</td>\n",
              "      <td>Education Level</td>\n",
              "      <td>Bachelors, Some-college, 11th, HS-grad, Prof-...</td>\n",
              "      <td>None</td>\n",
              "      <td>no</td>\n",
              "    </tr>\n",
              "    <tr>\n",
              "      <th>4</th>\n",
              "      <td>education-num</td>\n",
              "      <td>Feature</td>\n",
              "      <td>Integer</td>\n",
              "      <td>Education Level</td>\n",
              "      <td>None</td>\n",
              "      <td>None</td>\n",
              "      <td>no</td>\n",
              "    </tr>\n",
              "    <tr>\n",
              "      <th>5</th>\n",
              "      <td>marital-status</td>\n",
              "      <td>Feature</td>\n",
              "      <td>Categorical</td>\n",
              "      <td>Other</td>\n",
              "      <td>Married-civ-spouse, Divorced, Never-married, S...</td>\n",
              "      <td>None</td>\n",
              "      <td>no</td>\n",
              "    </tr>\n",
              "    <tr>\n",
              "      <th>6</th>\n",
              "      <td>occupation</td>\n",
              "      <td>Feature</td>\n",
              "      <td>Categorical</td>\n",
              "      <td>Other</td>\n",
              "      <td>Tech-support, Craft-repair, Other-service, Sal...</td>\n",
              "      <td>None</td>\n",
              "      <td>yes</td>\n",
              "    </tr>\n",
              "    <tr>\n",
              "      <th>7</th>\n",
              "      <td>relationship</td>\n",
              "      <td>Feature</td>\n",
              "      <td>Categorical</td>\n",
              "      <td>Other</td>\n",
              "      <td>Wife, Own-child, Husband, Not-in-family, Other...</td>\n",
              "      <td>None</td>\n",
              "      <td>no</td>\n",
              "    </tr>\n",
              "    <tr>\n",
              "      <th>8</th>\n",
              "      <td>race</td>\n",
              "      <td>Feature</td>\n",
              "      <td>Categorical</td>\n",
              "      <td>Race</td>\n",
              "      <td>White, Asian-Pac-Islander, Amer-Indian-Eskimo,...</td>\n",
              "      <td>None</td>\n",
              "      <td>no</td>\n",
              "    </tr>\n",
              "    <tr>\n",
              "      <th>9</th>\n",
              "      <td>sex</td>\n",
              "      <td>Feature</td>\n",
              "      <td>Binary</td>\n",
              "      <td>Sex</td>\n",
              "      <td>Female, Male.</td>\n",
              "      <td>None</td>\n",
              "      <td>no</td>\n",
              "    </tr>\n",
              "    <tr>\n",
              "      <th>10</th>\n",
              "      <td>capital-gain</td>\n",
              "      <td>Feature</td>\n",
              "      <td>Integer</td>\n",
              "      <td>None</td>\n",
              "      <td>None</td>\n",
              "      <td>None</td>\n",
              "      <td>no</td>\n",
              "    </tr>\n",
              "    <tr>\n",
              "      <th>11</th>\n",
              "      <td>capital-loss</td>\n",
              "      <td>Feature</td>\n",
              "      <td>Integer</td>\n",
              "      <td>None</td>\n",
              "      <td>None</td>\n",
              "      <td>None</td>\n",
              "      <td>no</td>\n",
              "    </tr>\n",
              "    <tr>\n",
              "      <th>12</th>\n",
              "      <td>hours-per-week</td>\n",
              "      <td>Feature</td>\n",
              "      <td>Integer</td>\n",
              "      <td>None</td>\n",
              "      <td>None</td>\n",
              "      <td>None</td>\n",
              "      <td>no</td>\n",
              "    </tr>\n",
              "    <tr>\n",
              "      <th>13</th>\n",
              "      <td>native-country</td>\n",
              "      <td>Feature</td>\n",
              "      <td>Categorical</td>\n",
              "      <td>Other</td>\n",
              "      <td>United-States, Cambodia, England, Puerto-Rico,...</td>\n",
              "      <td>None</td>\n",
              "      <td>yes</td>\n",
              "    </tr>\n",
              "    <tr>\n",
              "      <th>14</th>\n",
              "      <td>income</td>\n",
              "      <td>Target</td>\n",
              "      <td>Binary</td>\n",
              "      <td>Income</td>\n",
              "      <td>&gt;50K, &lt;=50K.</td>\n",
              "      <td>None</td>\n",
              "      <td>no</td>\n",
              "    </tr>\n",
              "  </tbody>\n",
              "</table>\n",
              "</div>\n",
              "    <div class=\"colab-df-buttons\">\n",
              "\n",
              "  <div class=\"colab-df-container\">\n",
              "    <button class=\"colab-df-convert\" onclick=\"convertToInteractive('df-3e86817c-fa4d-4478-af4e-84066efb77ff')\"\n",
              "            title=\"Convert this dataframe to an interactive table.\"\n",
              "            style=\"display:none;\">\n",
              "\n",
              "  <svg xmlns=\"http://www.w3.org/2000/svg\" height=\"24px\" viewBox=\"0 -960 960 960\">\n",
              "    <path d=\"M120-120v-720h720v720H120Zm60-500h600v-160H180v160Zm220 220h160v-160H400v160Zm0 220h160v-160H400v160ZM180-400h160v-160H180v160Zm440 0h160v-160H620v160ZM180-180h160v-160H180v160Zm440 0h160v-160H620v160Z\"/>\n",
              "  </svg>\n",
              "    </button>\n",
              "\n",
              "  <style>\n",
              "    .colab-df-container {\n",
              "      display:flex;\n",
              "      gap: 12px;\n",
              "    }\n",
              "\n",
              "    .colab-df-convert {\n",
              "      background-color: #E8F0FE;\n",
              "      border: none;\n",
              "      border-radius: 50%;\n",
              "      cursor: pointer;\n",
              "      display: none;\n",
              "      fill: #1967D2;\n",
              "      height: 32px;\n",
              "      padding: 0 0 0 0;\n",
              "      width: 32px;\n",
              "    }\n",
              "\n",
              "    .colab-df-convert:hover {\n",
              "      background-color: #E2EBFA;\n",
              "      box-shadow: 0px 1px 2px rgba(60, 64, 67, 0.3), 0px 1px 3px 1px rgba(60, 64, 67, 0.15);\n",
              "      fill: #174EA6;\n",
              "    }\n",
              "\n",
              "    .colab-df-buttons div {\n",
              "      margin-bottom: 4px;\n",
              "    }\n",
              "\n",
              "    [theme=dark] .colab-df-convert {\n",
              "      background-color: #3B4455;\n",
              "      fill: #D2E3FC;\n",
              "    }\n",
              "\n",
              "    [theme=dark] .colab-df-convert:hover {\n",
              "      background-color: #434B5C;\n",
              "      box-shadow: 0px 1px 3px 1px rgba(0, 0, 0, 0.15);\n",
              "      filter: drop-shadow(0px 1px 2px rgba(0, 0, 0, 0.3));\n",
              "      fill: #FFFFFF;\n",
              "    }\n",
              "  </style>\n",
              "\n",
              "    <script>\n",
              "      const buttonEl =\n",
              "        document.querySelector('#df-3e86817c-fa4d-4478-af4e-84066efb77ff button.colab-df-convert');\n",
              "      buttonEl.style.display =\n",
              "        google.colab.kernel.accessAllowed ? 'block' : 'none';\n",
              "\n",
              "      async function convertToInteractive(key) {\n",
              "        const element = document.querySelector('#df-3e86817c-fa4d-4478-af4e-84066efb77ff');\n",
              "        const dataTable =\n",
              "          await google.colab.kernel.invokeFunction('convertToInteractive',\n",
              "                                                    [key], {});\n",
              "        if (!dataTable) return;\n",
              "\n",
              "        const docLinkHtml = 'Like what you see? Visit the ' +\n",
              "          '<a target=\"_blank\" href=https://colab.research.google.com/notebooks/data_table.ipynb>data table notebook</a>'\n",
              "          + ' to learn more about interactive tables.';\n",
              "        element.innerHTML = '';\n",
              "        dataTable['output_type'] = 'display_data';\n",
              "        await google.colab.output.renderOutput(dataTable, element);\n",
              "        const docLink = document.createElement('div');\n",
              "        docLink.innerHTML = docLinkHtml;\n",
              "        element.appendChild(docLink);\n",
              "      }\n",
              "    </script>\n",
              "  </div>\n",
              "\n",
              "\n",
              "<div id=\"df-fd5d4376-41ac-43ad-a3bd-c3c6c8ce3d11\">\n",
              "  <button class=\"colab-df-quickchart\" onclick=\"quickchart('df-fd5d4376-41ac-43ad-a3bd-c3c6c8ce3d11')\"\n",
              "            title=\"Suggest charts\"\n",
              "            style=\"display:none;\">\n",
              "\n",
              "<svg xmlns=\"http://www.w3.org/2000/svg\" height=\"24px\"viewBox=\"0 0 24 24\"\n",
              "     width=\"24px\">\n",
              "    <g>\n",
              "        <path d=\"M19 3H5c-1.1 0-2 .9-2 2v14c0 1.1.9 2 2 2h14c1.1 0 2-.9 2-2V5c0-1.1-.9-2-2-2zM9 17H7v-7h2v7zm4 0h-2V7h2v10zm4 0h-2v-4h2v4z\"/>\n",
              "    </g>\n",
              "</svg>\n",
              "  </button>\n",
              "\n",
              "<style>\n",
              "  .colab-df-quickchart {\n",
              "      --bg-color: #E8F0FE;\n",
              "      --fill-color: #1967D2;\n",
              "      --hover-bg-color: #E2EBFA;\n",
              "      --hover-fill-color: #174EA6;\n",
              "      --disabled-fill-color: #AAA;\n",
              "      --disabled-bg-color: #DDD;\n",
              "  }\n",
              "\n",
              "  [theme=dark] .colab-df-quickchart {\n",
              "      --bg-color: #3B4455;\n",
              "      --fill-color: #D2E3FC;\n",
              "      --hover-bg-color: #434B5C;\n",
              "      --hover-fill-color: #FFFFFF;\n",
              "      --disabled-bg-color: #3B4455;\n",
              "      --disabled-fill-color: #666;\n",
              "  }\n",
              "\n",
              "  .colab-df-quickchart {\n",
              "    background-color: var(--bg-color);\n",
              "    border: none;\n",
              "    border-radius: 50%;\n",
              "    cursor: pointer;\n",
              "    display: none;\n",
              "    fill: var(--fill-color);\n",
              "    height: 32px;\n",
              "    padding: 0;\n",
              "    width: 32px;\n",
              "  }\n",
              "\n",
              "  .colab-df-quickchart:hover {\n",
              "    background-color: var(--hover-bg-color);\n",
              "    box-shadow: 0 1px 2px rgba(60, 64, 67, 0.3), 0 1px 3px 1px rgba(60, 64, 67, 0.15);\n",
              "    fill: var(--button-hover-fill-color);\n",
              "  }\n",
              "\n",
              "  .colab-df-quickchart-complete:disabled,\n",
              "  .colab-df-quickchart-complete:disabled:hover {\n",
              "    background-color: var(--disabled-bg-color);\n",
              "    fill: var(--disabled-fill-color);\n",
              "    box-shadow: none;\n",
              "  }\n",
              "\n",
              "  .colab-df-spinner {\n",
              "    border: 2px solid var(--fill-color);\n",
              "    border-color: transparent;\n",
              "    border-bottom-color: var(--fill-color);\n",
              "    animation:\n",
              "      spin 1s steps(1) infinite;\n",
              "  }\n",
              "\n",
              "  @keyframes spin {\n",
              "    0% {\n",
              "      border-color: transparent;\n",
              "      border-bottom-color: var(--fill-color);\n",
              "      border-left-color: var(--fill-color);\n",
              "    }\n",
              "    20% {\n",
              "      border-color: transparent;\n",
              "      border-left-color: var(--fill-color);\n",
              "      border-top-color: var(--fill-color);\n",
              "    }\n",
              "    30% {\n",
              "      border-color: transparent;\n",
              "      border-left-color: var(--fill-color);\n",
              "      border-top-color: var(--fill-color);\n",
              "      border-right-color: var(--fill-color);\n",
              "    }\n",
              "    40% {\n",
              "      border-color: transparent;\n",
              "      border-right-color: var(--fill-color);\n",
              "      border-top-color: var(--fill-color);\n",
              "    }\n",
              "    60% {\n",
              "      border-color: transparent;\n",
              "      border-right-color: var(--fill-color);\n",
              "    }\n",
              "    80% {\n",
              "      border-color: transparent;\n",
              "      border-right-color: var(--fill-color);\n",
              "      border-bottom-color: var(--fill-color);\n",
              "    }\n",
              "    90% {\n",
              "      border-color: transparent;\n",
              "      border-bottom-color: var(--fill-color);\n",
              "    }\n",
              "  }\n",
              "</style>\n",
              "\n",
              "  <script>\n",
              "    async function quickchart(key) {\n",
              "      const quickchartButtonEl =\n",
              "        document.querySelector('#' + key + ' button');\n",
              "      quickchartButtonEl.disabled = true;  // To prevent multiple clicks.\n",
              "      quickchartButtonEl.classList.add('colab-df-spinner');\n",
              "      try {\n",
              "        const charts = await google.colab.kernel.invokeFunction(\n",
              "            'suggestCharts', [key], {});\n",
              "      } catch (error) {\n",
              "        console.error('Error during call to suggestCharts:', error);\n",
              "      }\n",
              "      quickchartButtonEl.classList.remove('colab-df-spinner');\n",
              "      quickchartButtonEl.classList.add('colab-df-quickchart-complete');\n",
              "    }\n",
              "    (() => {\n",
              "      let quickchartButtonEl =\n",
              "        document.querySelector('#df-fd5d4376-41ac-43ad-a3bd-c3c6c8ce3d11 button');\n",
              "      quickchartButtonEl.style.display =\n",
              "        google.colab.kernel.accessAllowed ? 'block' : 'none';\n",
              "    })();\n",
              "  </script>\n",
              "</div>\n",
              "\n",
              "    </div>\n",
              "  </div>\n"
            ],
            "application/vnd.google.colaboratory.intrinsic+json": {
              "type": "dataframe",
              "repr_error": "Out of range float values are not JSON compliant: nan"
            }
          },
          "metadata": {},
          "execution_count": 3
        }
      ],
      "source": [
        "# Visão das features e do target\n",
        "adult['variables']"
      ]
    },
    {
      "cell_type": "markdown",
      "metadata": {
        "id": "1ObZjxUPFdWD"
      },
      "source": [
        "### Tratamento de dados\n",
        "1. Verificar valores ausentes: Identificar e tratar quaisquer valores ausentes nas colunas.\n",
        "2. Tratar outliers: Avaliar a presença de outliers e decidir sobre uma estratégia de tratamento adequada.\n",
        "3. Checar consistência dos dados: Garantir que os dados estejam consistentes e corretamente formatados, por exemplo, categorias mal rotuladas ou tipos de dados errados.\n",
        "4. Transformação de dados: Converter tipos de dados inadequados para os tipos apropriados para modelagem, como transformar textos em categorias numéricas."
      ]
    },
    {
      "cell_type": "code",
      "execution_count": 4,
      "metadata": {
        "id": "qlzcc8_kFdWD"
      },
      "outputs": [],
      "source": [
        "adult_data = adult['data']['features']"
      ]
    },
    {
      "cell_type": "code",
      "execution_count": 5,
      "metadata": {
        "colab": {
          "base_uri": "https://localhost:8080/"
        },
        "id": "M9TGg-KWFdWD",
        "outputId": "29ef2107-5024-44fb-b495-d71ea61ec4f4"
      },
      "outputs": [
        {
          "output_type": "execute_result",
          "data": {
            "text/plain": [
              "workclass         963\n",
              "occupation        966\n",
              "native-country    274\n",
              "dtype: int64"
            ]
          },
          "metadata": {},
          "execution_count": 5
        }
      ],
      "source": [
        "# Análise de valores ausentes no conjunto de dados\n",
        "missing_values = adult_data.isnull().sum()\n",
        "missing_values[missing_values > 0]  # Mostrar apenas colunas com valores ausentes, se houver"
      ]
    },
    {
      "cell_type": "markdown",
      "metadata": {
        "id": "yn-lX03mFdWD"
      },
      "source": [
        "Para dados categóricos, uma opção é criar uma nova categoria para representar os valores ausentes. Então, optou-se por criar uma categoria 'Missing' para os valores ausentes nas colunas categóricas, que pode ajudar a preservar informações úteis durante a modelagem."
      ]
    },
    {
      "cell_type": "code",
      "execution_count": 6,
      "metadata": {
        "colab": {
          "base_uri": "https://localhost:8080/"
        },
        "id": "lYz1QWVeFdWE",
        "outputId": "27e32f82-4ab9-4c18-c759-ca6412e025c5"
      },
      "outputs": [
        {
          "output_type": "execute_result",
          "data": {
            "text/plain": [
              "Series([], dtype: int64)"
            ]
          },
          "metadata": {},
          "execution_count": 6
        }
      ],
      "source": [
        "# Trocar valores ausentes nas colunas categóricas por uma categoria 'Missing'\n",
        "adult_data['workclass'].fillna('Missing', inplace=True)\n",
        "adult_data['occupation'].fillna('Missing', inplace=True)\n",
        "adult_data['native-country'].fillna('Missing', inplace=True)\n",
        "\n",
        "# Verificar novamente a presença de valores ausentes\n",
        "updated_missing_values = adult_data.isnull().sum()\n",
        "updated_missing_values[updated_missing_values > 0]  # Mostrar apenas colunas com valores ausentes após a troca"
      ]
    },
    {
      "cell_type": "code",
      "execution_count": 7,
      "metadata": {
        "colab": {
          "base_uri": "https://localhost:8080/",
          "height": 426
        },
        "id": "3ndj7EqnFdWE",
        "outputId": "f70d4129-7793-41b0-96c1-760ad2f8cc23"
      },
      "outputs": [
        {
          "output_type": "execute_result",
          "data": {
            "text/plain": [
              "                age        fnlwgt  education-num  capital-gain  capital-loss  \\\n",
              "count  48842.000000  4.884200e+04   48842.000000  48842.000000  48842.000000   \n",
              "mean      38.643585  1.896641e+05      10.078089   1079.067626     87.502314   \n",
              "std       13.710510  1.056040e+05       2.570973   7452.019058    403.004552   \n",
              "min       17.000000  1.228500e+04       1.000000      0.000000      0.000000   \n",
              "1%        17.000000  2.716600e+04       3.000000      0.000000      0.000000   \n",
              "5%        19.000000  3.961540e+04       5.000000      0.000000      0.000000   \n",
              "25%       28.000000  1.175505e+05       9.000000      0.000000      0.000000   \n",
              "50%       37.000000  1.781445e+05      10.000000      0.000000      0.000000   \n",
              "75%       48.000000  2.376420e+05      12.000000      0.000000      0.000000   \n",
              "95%       63.000000  3.794816e+05      14.000000   5013.000000      0.000000   \n",
              "99%       74.000000  5.094844e+05      16.000000  15024.000000   2001.000000   \n",
              "max       90.000000  1.490400e+06      16.000000  99999.000000   4356.000000   \n",
              "\n",
              "       hours-per-week  \n",
              "count    48842.000000  \n",
              "mean        40.422382  \n",
              "std         12.391444  \n",
              "min          1.000000  \n",
              "1%           8.000000  \n",
              "5%          17.050000  \n",
              "25%         40.000000  \n",
              "50%         40.000000  \n",
              "75%         45.000000  \n",
              "95%         60.000000  \n",
              "99%         80.000000  \n",
              "max         99.000000  "
            ],
            "text/html": [
              "\n",
              "  <div id=\"df-aaed8d1f-4b4d-4cb5-a2d9-c95cc6608a17\" class=\"colab-df-container\">\n",
              "    <div>\n",
              "<style scoped>\n",
              "    .dataframe tbody tr th:only-of-type {\n",
              "        vertical-align: middle;\n",
              "    }\n",
              "\n",
              "    .dataframe tbody tr th {\n",
              "        vertical-align: top;\n",
              "    }\n",
              "\n",
              "    .dataframe thead th {\n",
              "        text-align: right;\n",
              "    }\n",
              "</style>\n",
              "<table border=\"1\" class=\"dataframe\">\n",
              "  <thead>\n",
              "    <tr style=\"text-align: right;\">\n",
              "      <th></th>\n",
              "      <th>age</th>\n",
              "      <th>fnlwgt</th>\n",
              "      <th>education-num</th>\n",
              "      <th>capital-gain</th>\n",
              "      <th>capital-loss</th>\n",
              "      <th>hours-per-week</th>\n",
              "    </tr>\n",
              "  </thead>\n",
              "  <tbody>\n",
              "    <tr>\n",
              "      <th>count</th>\n",
              "      <td>48842.000000</td>\n",
              "      <td>4.884200e+04</td>\n",
              "      <td>48842.000000</td>\n",
              "      <td>48842.000000</td>\n",
              "      <td>48842.000000</td>\n",
              "      <td>48842.000000</td>\n",
              "    </tr>\n",
              "    <tr>\n",
              "      <th>mean</th>\n",
              "      <td>38.643585</td>\n",
              "      <td>1.896641e+05</td>\n",
              "      <td>10.078089</td>\n",
              "      <td>1079.067626</td>\n",
              "      <td>87.502314</td>\n",
              "      <td>40.422382</td>\n",
              "    </tr>\n",
              "    <tr>\n",
              "      <th>std</th>\n",
              "      <td>13.710510</td>\n",
              "      <td>1.056040e+05</td>\n",
              "      <td>2.570973</td>\n",
              "      <td>7452.019058</td>\n",
              "      <td>403.004552</td>\n",
              "      <td>12.391444</td>\n",
              "    </tr>\n",
              "    <tr>\n",
              "      <th>min</th>\n",
              "      <td>17.000000</td>\n",
              "      <td>1.228500e+04</td>\n",
              "      <td>1.000000</td>\n",
              "      <td>0.000000</td>\n",
              "      <td>0.000000</td>\n",
              "      <td>1.000000</td>\n",
              "    </tr>\n",
              "    <tr>\n",
              "      <th>1%</th>\n",
              "      <td>17.000000</td>\n",
              "      <td>2.716600e+04</td>\n",
              "      <td>3.000000</td>\n",
              "      <td>0.000000</td>\n",
              "      <td>0.000000</td>\n",
              "      <td>8.000000</td>\n",
              "    </tr>\n",
              "    <tr>\n",
              "      <th>5%</th>\n",
              "      <td>19.000000</td>\n",
              "      <td>3.961540e+04</td>\n",
              "      <td>5.000000</td>\n",
              "      <td>0.000000</td>\n",
              "      <td>0.000000</td>\n",
              "      <td>17.050000</td>\n",
              "    </tr>\n",
              "    <tr>\n",
              "      <th>25%</th>\n",
              "      <td>28.000000</td>\n",
              "      <td>1.175505e+05</td>\n",
              "      <td>9.000000</td>\n",
              "      <td>0.000000</td>\n",
              "      <td>0.000000</td>\n",
              "      <td>40.000000</td>\n",
              "    </tr>\n",
              "    <tr>\n",
              "      <th>50%</th>\n",
              "      <td>37.000000</td>\n",
              "      <td>1.781445e+05</td>\n",
              "      <td>10.000000</td>\n",
              "      <td>0.000000</td>\n",
              "      <td>0.000000</td>\n",
              "      <td>40.000000</td>\n",
              "    </tr>\n",
              "    <tr>\n",
              "      <th>75%</th>\n",
              "      <td>48.000000</td>\n",
              "      <td>2.376420e+05</td>\n",
              "      <td>12.000000</td>\n",
              "      <td>0.000000</td>\n",
              "      <td>0.000000</td>\n",
              "      <td>45.000000</td>\n",
              "    </tr>\n",
              "    <tr>\n",
              "      <th>95%</th>\n",
              "      <td>63.000000</td>\n",
              "      <td>3.794816e+05</td>\n",
              "      <td>14.000000</td>\n",
              "      <td>5013.000000</td>\n",
              "      <td>0.000000</td>\n",
              "      <td>60.000000</td>\n",
              "    </tr>\n",
              "    <tr>\n",
              "      <th>99%</th>\n",
              "      <td>74.000000</td>\n",
              "      <td>5.094844e+05</td>\n",
              "      <td>16.000000</td>\n",
              "      <td>15024.000000</td>\n",
              "      <td>2001.000000</td>\n",
              "      <td>80.000000</td>\n",
              "    </tr>\n",
              "    <tr>\n",
              "      <th>max</th>\n",
              "      <td>90.000000</td>\n",
              "      <td>1.490400e+06</td>\n",
              "      <td>16.000000</td>\n",
              "      <td>99999.000000</td>\n",
              "      <td>4356.000000</td>\n",
              "      <td>99.000000</td>\n",
              "    </tr>\n",
              "  </tbody>\n",
              "</table>\n",
              "</div>\n",
              "    <div class=\"colab-df-buttons\">\n",
              "\n",
              "  <div class=\"colab-df-container\">\n",
              "    <button class=\"colab-df-convert\" onclick=\"convertToInteractive('df-aaed8d1f-4b4d-4cb5-a2d9-c95cc6608a17')\"\n",
              "            title=\"Convert this dataframe to an interactive table.\"\n",
              "            style=\"display:none;\">\n",
              "\n",
              "  <svg xmlns=\"http://www.w3.org/2000/svg\" height=\"24px\" viewBox=\"0 -960 960 960\">\n",
              "    <path d=\"M120-120v-720h720v720H120Zm60-500h600v-160H180v160Zm220 220h160v-160H400v160Zm0 220h160v-160H400v160ZM180-400h160v-160H180v160Zm440 0h160v-160H620v160ZM180-180h160v-160H180v160Zm440 0h160v-160H620v160Z\"/>\n",
              "  </svg>\n",
              "    </button>\n",
              "\n",
              "  <style>\n",
              "    .colab-df-container {\n",
              "      display:flex;\n",
              "      gap: 12px;\n",
              "    }\n",
              "\n",
              "    .colab-df-convert {\n",
              "      background-color: #E8F0FE;\n",
              "      border: none;\n",
              "      border-radius: 50%;\n",
              "      cursor: pointer;\n",
              "      display: none;\n",
              "      fill: #1967D2;\n",
              "      height: 32px;\n",
              "      padding: 0 0 0 0;\n",
              "      width: 32px;\n",
              "    }\n",
              "\n",
              "    .colab-df-convert:hover {\n",
              "      background-color: #E2EBFA;\n",
              "      box-shadow: 0px 1px 2px rgba(60, 64, 67, 0.3), 0px 1px 3px 1px rgba(60, 64, 67, 0.15);\n",
              "      fill: #174EA6;\n",
              "    }\n",
              "\n",
              "    .colab-df-buttons div {\n",
              "      margin-bottom: 4px;\n",
              "    }\n",
              "\n",
              "    [theme=dark] .colab-df-convert {\n",
              "      background-color: #3B4455;\n",
              "      fill: #D2E3FC;\n",
              "    }\n",
              "\n",
              "    [theme=dark] .colab-df-convert:hover {\n",
              "      background-color: #434B5C;\n",
              "      box-shadow: 0px 1px 3px 1px rgba(0, 0, 0, 0.15);\n",
              "      filter: drop-shadow(0px 1px 2px rgba(0, 0, 0, 0.3));\n",
              "      fill: #FFFFFF;\n",
              "    }\n",
              "  </style>\n",
              "\n",
              "    <script>\n",
              "      const buttonEl =\n",
              "        document.querySelector('#df-aaed8d1f-4b4d-4cb5-a2d9-c95cc6608a17 button.colab-df-convert');\n",
              "      buttonEl.style.display =\n",
              "        google.colab.kernel.accessAllowed ? 'block' : 'none';\n",
              "\n",
              "      async function convertToInteractive(key) {\n",
              "        const element = document.querySelector('#df-aaed8d1f-4b4d-4cb5-a2d9-c95cc6608a17');\n",
              "        const dataTable =\n",
              "          await google.colab.kernel.invokeFunction('convertToInteractive',\n",
              "                                                    [key], {});\n",
              "        if (!dataTable) return;\n",
              "\n",
              "        const docLinkHtml = 'Like what you see? Visit the ' +\n",
              "          '<a target=\"_blank\" href=https://colab.research.google.com/notebooks/data_table.ipynb>data table notebook</a>'\n",
              "          + ' to learn more about interactive tables.';\n",
              "        element.innerHTML = '';\n",
              "        dataTable['output_type'] = 'display_data';\n",
              "        await google.colab.output.renderOutput(dataTable, element);\n",
              "        const docLink = document.createElement('div');\n",
              "        docLink.innerHTML = docLinkHtml;\n",
              "        element.appendChild(docLink);\n",
              "      }\n",
              "    </script>\n",
              "  </div>\n",
              "\n",
              "\n",
              "<div id=\"df-ce65d067-892d-47eb-8a30-7cc9a0da8dbd\">\n",
              "  <button class=\"colab-df-quickchart\" onclick=\"quickchart('df-ce65d067-892d-47eb-8a30-7cc9a0da8dbd')\"\n",
              "            title=\"Suggest charts\"\n",
              "            style=\"display:none;\">\n",
              "\n",
              "<svg xmlns=\"http://www.w3.org/2000/svg\" height=\"24px\"viewBox=\"0 0 24 24\"\n",
              "     width=\"24px\">\n",
              "    <g>\n",
              "        <path d=\"M19 3H5c-1.1 0-2 .9-2 2v14c0 1.1.9 2 2 2h14c1.1 0 2-.9 2-2V5c0-1.1-.9-2-2-2zM9 17H7v-7h2v7zm4 0h-2V7h2v10zm4 0h-2v-4h2v4z\"/>\n",
              "    </g>\n",
              "</svg>\n",
              "  </button>\n",
              "\n",
              "<style>\n",
              "  .colab-df-quickchart {\n",
              "      --bg-color: #E8F0FE;\n",
              "      --fill-color: #1967D2;\n",
              "      --hover-bg-color: #E2EBFA;\n",
              "      --hover-fill-color: #174EA6;\n",
              "      --disabled-fill-color: #AAA;\n",
              "      --disabled-bg-color: #DDD;\n",
              "  }\n",
              "\n",
              "  [theme=dark] .colab-df-quickchart {\n",
              "      --bg-color: #3B4455;\n",
              "      --fill-color: #D2E3FC;\n",
              "      --hover-bg-color: #434B5C;\n",
              "      --hover-fill-color: #FFFFFF;\n",
              "      --disabled-bg-color: #3B4455;\n",
              "      --disabled-fill-color: #666;\n",
              "  }\n",
              "\n",
              "  .colab-df-quickchart {\n",
              "    background-color: var(--bg-color);\n",
              "    border: none;\n",
              "    border-radius: 50%;\n",
              "    cursor: pointer;\n",
              "    display: none;\n",
              "    fill: var(--fill-color);\n",
              "    height: 32px;\n",
              "    padding: 0;\n",
              "    width: 32px;\n",
              "  }\n",
              "\n",
              "  .colab-df-quickchart:hover {\n",
              "    background-color: var(--hover-bg-color);\n",
              "    box-shadow: 0 1px 2px rgba(60, 64, 67, 0.3), 0 1px 3px 1px rgba(60, 64, 67, 0.15);\n",
              "    fill: var(--button-hover-fill-color);\n",
              "  }\n",
              "\n",
              "  .colab-df-quickchart-complete:disabled,\n",
              "  .colab-df-quickchart-complete:disabled:hover {\n",
              "    background-color: var(--disabled-bg-color);\n",
              "    fill: var(--disabled-fill-color);\n",
              "    box-shadow: none;\n",
              "  }\n",
              "\n",
              "  .colab-df-spinner {\n",
              "    border: 2px solid var(--fill-color);\n",
              "    border-color: transparent;\n",
              "    border-bottom-color: var(--fill-color);\n",
              "    animation:\n",
              "      spin 1s steps(1) infinite;\n",
              "  }\n",
              "\n",
              "  @keyframes spin {\n",
              "    0% {\n",
              "      border-color: transparent;\n",
              "      border-bottom-color: var(--fill-color);\n",
              "      border-left-color: var(--fill-color);\n",
              "    }\n",
              "    20% {\n",
              "      border-color: transparent;\n",
              "      border-left-color: var(--fill-color);\n",
              "      border-top-color: var(--fill-color);\n",
              "    }\n",
              "    30% {\n",
              "      border-color: transparent;\n",
              "      border-left-color: var(--fill-color);\n",
              "      border-top-color: var(--fill-color);\n",
              "      border-right-color: var(--fill-color);\n",
              "    }\n",
              "    40% {\n",
              "      border-color: transparent;\n",
              "      border-right-color: var(--fill-color);\n",
              "      border-top-color: var(--fill-color);\n",
              "    }\n",
              "    60% {\n",
              "      border-color: transparent;\n",
              "      border-right-color: var(--fill-color);\n",
              "    }\n",
              "    80% {\n",
              "      border-color: transparent;\n",
              "      border-right-color: var(--fill-color);\n",
              "      border-bottom-color: var(--fill-color);\n",
              "    }\n",
              "    90% {\n",
              "      border-color: transparent;\n",
              "      border-bottom-color: var(--fill-color);\n",
              "    }\n",
              "  }\n",
              "</style>\n",
              "\n",
              "  <script>\n",
              "    async function quickchart(key) {\n",
              "      const quickchartButtonEl =\n",
              "        document.querySelector('#' + key + ' button');\n",
              "      quickchartButtonEl.disabled = true;  // To prevent multiple clicks.\n",
              "      quickchartButtonEl.classList.add('colab-df-spinner');\n",
              "      try {\n",
              "        const charts = await google.colab.kernel.invokeFunction(\n",
              "            'suggestCharts', [key], {});\n",
              "      } catch (error) {\n",
              "        console.error('Error during call to suggestCharts:', error);\n",
              "      }\n",
              "      quickchartButtonEl.classList.remove('colab-df-spinner');\n",
              "      quickchartButtonEl.classList.add('colab-df-quickchart-complete');\n",
              "    }\n",
              "    (() => {\n",
              "      let quickchartButtonEl =\n",
              "        document.querySelector('#df-ce65d067-892d-47eb-8a30-7cc9a0da8dbd button');\n",
              "      quickchartButtonEl.style.display =\n",
              "        google.colab.kernel.accessAllowed ? 'block' : 'none';\n",
              "    })();\n",
              "  </script>\n",
              "</div>\n",
              "\n",
              "  <div id=\"id_e09c34a0-6561-4c66-a4a1-2d1c395fa1ae\">\n",
              "    <style>\n",
              "      .colab-df-generate {\n",
              "        background-color: #E8F0FE;\n",
              "        border: none;\n",
              "        border-radius: 50%;\n",
              "        cursor: pointer;\n",
              "        display: none;\n",
              "        fill: #1967D2;\n",
              "        height: 32px;\n",
              "        padding: 0 0 0 0;\n",
              "        width: 32px;\n",
              "      }\n",
              "\n",
              "      .colab-df-generate:hover {\n",
              "        background-color: #E2EBFA;\n",
              "        box-shadow: 0px 1px 2px rgba(60, 64, 67, 0.3), 0px 1px 3px 1px rgba(60, 64, 67, 0.15);\n",
              "        fill: #174EA6;\n",
              "      }\n",
              "\n",
              "      [theme=dark] .colab-df-generate {\n",
              "        background-color: #3B4455;\n",
              "        fill: #D2E3FC;\n",
              "      }\n",
              "\n",
              "      [theme=dark] .colab-df-generate:hover {\n",
              "        background-color: #434B5C;\n",
              "        box-shadow: 0px 1px 3px 1px rgba(0, 0, 0, 0.15);\n",
              "        filter: drop-shadow(0px 1px 2px rgba(0, 0, 0, 0.3));\n",
              "        fill: #FFFFFF;\n",
              "      }\n",
              "    </style>\n",
              "    <button class=\"colab-df-generate\" onclick=\"generateWithVariable('outlier_stats')\"\n",
              "            title=\"Generate code using this dataframe.\"\n",
              "            style=\"display:none;\">\n",
              "\n",
              "  <svg xmlns=\"http://www.w3.org/2000/svg\" height=\"24px\"viewBox=\"0 0 24 24\"\n",
              "       width=\"24px\">\n",
              "    <path d=\"M7,19H8.4L18.45,9,17,7.55,7,17.6ZM5,21V16.75L18.45,3.32a2,2,0,0,1,2.83,0l1.4,1.43a1.91,1.91,0,0,1,.58,1.4,1.91,1.91,0,0,1-.58,1.4L9.25,21ZM18.45,9,17,7.55Zm-12,3A5.31,5.31,0,0,0,4.9,8.1,5.31,5.31,0,0,0,1,6.5,5.31,5.31,0,0,0,4.9,4.9,5.31,5.31,0,0,0,6.5,1,5.31,5.31,0,0,0,8.1,4.9,5.31,5.31,0,0,0,12,6.5,5.46,5.46,0,0,0,6.5,12Z\"/>\n",
              "  </svg>\n",
              "    </button>\n",
              "    <script>\n",
              "      (() => {\n",
              "      const buttonEl =\n",
              "        document.querySelector('#id_e09c34a0-6561-4c66-a4a1-2d1c395fa1ae button.colab-df-generate');\n",
              "      buttonEl.style.display =\n",
              "        google.colab.kernel.accessAllowed ? 'block' : 'none';\n",
              "\n",
              "      buttonEl.onclick = () => {\n",
              "        google.colab.notebook.generateWithVariable('outlier_stats');\n",
              "      }\n",
              "      })();\n",
              "    </script>\n",
              "  </div>\n",
              "\n",
              "    </div>\n",
              "  </div>\n"
            ],
            "application/vnd.google.colaboratory.intrinsic+json": {
              "type": "dataframe",
              "variable_name": "outlier_stats",
              "summary": "{\n  \"name\": \"outlier_stats\",\n  \"rows\": 12,\n  \"fields\": [\n    {\n      \"column\": \"age\",\n      \"properties\": {\n        \"dtype\": \"number\",\n        \"std\": 14087.804677121165,\n        \"min\": 13.710509934443555,\n        \"max\": 48842.0,\n        \"num_unique_values\": 11,\n        \"samples\": [\n          28.0,\n          48842.0,\n          74.0\n        ],\n        \"semantic_type\": \"\",\n        \"description\": \"\"\n      }\n    },\n    {\n      \"column\": \"fnlwgt\",\n      \"properties\": {\n        \"dtype\": \"number\",\n        \"std\": 410269.048342388,\n        \"min\": 12285.0,\n        \"max\": 1490400.0,\n        \"num_unique_values\": 12,\n        \"samples\": [\n          509484.41999999987,\n          379481.6499999998,\n          48842.0\n        ],\n        \"semantic_type\": \"\",\n        \"description\": \"\"\n      }\n    },\n    {\n      \"column\": \"education-num\",\n      \"properties\": {\n        \"dtype\": \"number\",\n        \"std\": 14096.8829972921,\n        \"min\": 1.0,\n        \"max\": 48842.0,\n        \"num_unique_values\": 11,\n        \"samples\": [\n          5.0,\n          48842.0,\n          14.0\n        ],\n        \"semantic_type\": \"\",\n        \"description\": \"\"\n      }\n    },\n    {\n      \"column\": \"capital-gain\",\n      \"properties\": {\n        \"dtype\": \"number\",\n        \"std\": 30256.564549637656,\n        \"min\": 0.0,\n        \"max\": 99999.0,\n        \"num_unique_values\": 7,\n        \"samples\": [\n          48842.0,\n          1079.0676262233324,\n          15024.0\n        ],\n        \"semantic_type\": \"\",\n        \"description\": \"\"\n      }\n    },\n    {\n      \"column\": \"capital-loss\",\n      \"properties\": {\n        \"dtype\": \"number\",\n        \"std\": 13981.30680287871,\n        \"min\": 0.0,\n        \"max\": 48842.0,\n        \"num_unique_values\": 6,\n        \"samples\": [\n          48842.0,\n          87.50231358257237,\n          4356.0\n        ],\n        \"semantic_type\": \"\",\n        \"description\": \"\"\n      }\n    },\n    {\n      \"column\": \"hours-per-week\",\n      \"properties\": {\n        \"dtype\": \"number\",\n        \"std\": 14087.878896048931,\n        \"min\": 1.0,\n        \"max\": 48842.0,\n        \"num_unique_values\": 11,\n        \"samples\": [\n          17.050000000000182,\n          48842.0,\n          80.0\n        ],\n        \"semantic_type\": \"\",\n        \"description\": \"\"\n      }\n    }\n  ]\n}"
            }
          },
          "metadata": {},
          "execution_count": 7
        }
      ],
      "source": [
        "# Verificação de outliers para as variáveis numéricas usando o método de percentis\n",
        "num_cols = ['age', 'fnlwgt', 'education-num', 'capital-gain', 'capital-loss', 'hours-per-week']\n",
        "outlier_stats = adult_data[num_cols].describe(percentiles=[.01, .05, .25, .50, .75, .95, .99])\n",
        "outlier_stats"
      ]
    },
    {
      "cell_type": "markdown",
      "metadata": {
        "id": "WwSbm4AmFdWE"
      },
      "source": [
        "A análise de outliers mostra que algumas colunas têm valores extremamente altos ou baixos que podem ser considerados outliers, especialmente nas colunas capital-gain, capital-loss, e hours-per-week:\n",
        "- **capital-gain e capital-loss:** Ambos têm uma grande quantidade de zeros, com outliers significativos nos 1% mais altos dos dados (e.g., capital-gain chega até 99999).\n",
        "- **hours-per-week:** A maioria trabalha cerca de 40 horas semanais, mas há pessoas trabalhando apenas 1 hora por semana e outras até 99 horas, com 1% dos dados mostrando 80 horas ou mais."
      ]
    },
    {
      "cell_type": "markdown",
      "metadata": {
        "id": "newlPcdhFdWE"
      },
      "source": [
        "Uma estratégia possível seria o Capping, ou seja, limitar os valores ao percentil 1 e 99, que pode ser uma boa estratégia para reduzir o efeito dos extremos sem perder muitos dados. Contudo, não será utilizado por existir o risco de reduzir a variabilidade natural dos dados. De qualquer modo o capping seria feito da forma abaixo:"
      ]
    },
    {
      "cell_type": "code",
      "execution_count": null,
      "metadata": {
        "id": "sahFUFGbFdWE"
      },
      "outputs": [],
      "source": [
        "# import numpy as np\n",
        "\n",
        "# # Aplicar capping nos outliers com base nos percentis 1% e 99%\n",
        "# percentile_01 = adult_data['capital-gain'].quantile(0.01)\n",
        "# percentile_99 = adult_data['capital-gain'].quantile(0.99)\n",
        "# adult_data['capital-gain'] = np.clip(adult_data['capital-gain'], percentile_01, percentile_99)\n",
        "\n",
        "# percentile_01 = adult_data['capital-loss'].quantile(0.01)\n",
        "# percentile_99 = adult_data['capital-loss'].quantile(0.99)\n",
        "# adult_data['capital-loss'] = np.clip(adult_data['capital-loss'], percentile_01, percentile_99)\n",
        "\n",
        "# percentile_01 = adult_data['hours-per-week'].quantile(0.01)\n",
        "# percentile_99 = adult_data['hours-per-week'].quantile(0.99)\n",
        "# adult_data['hours-per-week'] = np.clip(adult_data['hours-per-week'], percentile_01, percentile_99)\n",
        "\n",
        "# # Verificar a distribuição após aplicação do capping\n",
        "# outlier_revised_stats = adult_data[['capital-gain', 'capital-loss', 'hours-per-week']].describe()\n",
        "# outlier_revised_stats"
      ]
    },
    {
      "cell_type": "markdown",
      "metadata": {
        "id": "QQyqCL9iFdWF"
      },
      "source": [
        "Avaliação dos dados de target"
      ]
    },
    {
      "cell_type": "code",
      "execution_count": 8,
      "metadata": {
        "colab": {
          "base_uri": "https://localhost:8080/"
        },
        "id": "jCmYmAlaFdWF",
        "outputId": "4d293cbb-b147-49bd-d11f-d42320c19a79"
      },
      "outputs": [
        {
          "output_type": "execute_result",
          "data": {
            "text/plain": [
              "income\n",
              "<=50K     24720\n",
              "<=50K.    12435\n",
              ">50K       7841\n",
              ">50K.      3846\n",
              "Name: count, dtype: int64"
            ]
          },
          "metadata": {},
          "execution_count": 8
        }
      ],
      "source": [
        "adult.data.targets.value_counts()"
      ]
    },
    {
      "cell_type": "markdown",
      "metadata": {
        "id": "EJIgQdzOFdWF"
      },
      "source": [
        "O dataset de target deveria ter somente 2 tipos de valores por ser um problema binário, ou seja, ganha mais de 50K ou não.\n",
        "\n",
        "Os passos realizados foram:\n",
        "1. Remover quaisquer caracteres indesejados como pontos e espaços adicionais.\n",
        "2. Converter as strings limpas em números usando o LabelEncoder."
      ]
    },
    {
      "cell_type": "code",
      "execution_count": 9,
      "metadata": {
        "colab": {
          "base_uri": "https://localhost:8080/"
        },
        "id": "PwOoyPYWFdWF",
        "outputId": "113a575d-b5da-4375-9e88-5f3421c16652"
      },
      "outputs": [
        {
          "output_type": "stream",
          "name": "stdout",
          "text": [
            "['<=50K' '>50K']\n",
            "[0 1]\n"
          ]
        }
      ],
      "source": [
        "import pandas as pd\n",
        "from sklearn.preprocessing import LabelEncoder\n",
        "\n",
        "# Removendo pontos e quaisquer espaços em branco em excesso\n",
        "income_cleaned = adult.data.targets['income'].str.replace(\".\", \"\", regex=False).str.strip()\n",
        "\n",
        "# Verifique se os valores foram limpos\n",
        "print(income_cleaned.unique())\n",
        "\n",
        "# Aplique o LabelEncoder na coluna limpa\n",
        "label_encoder = LabelEncoder()\n",
        "income_encoded = label_encoder.fit_transform(income_cleaned)\n",
        "\n",
        "# Agora você pode substituir a coluna 'income' pela versão codificada no DataFrame original\n",
        "adult.data.targets['income'] = income_encoded\n",
        "\n",
        "# Verifique os valores únicos para garantir que a codificação está correta\n",
        "print(adult.data.targets['income'].unique())"
      ]
    },
    {
      "cell_type": "markdown",
      "metadata": {
        "id": "pjUjZ1D2FdWF"
      },
      "source": [
        "Agora o DataFrame adult.data.targets tem a coluna income transformada em valores numéricos 0 e 1, prontos para serem usados em treinamento e avaliação de modelos de machine learning."
      ]
    },
    {
      "cell_type": "markdown",
      "metadata": {
        "id": "IZl4UAVSFdWF"
      },
      "source": [
        "Separação do dataset entre treino e teste"
      ]
    },
    {
      "cell_type": "code",
      "execution_count": 10,
      "metadata": {
        "colab": {
          "base_uri": "https://localhost:8080/"
        },
        "id": "tfEHUj2CFdWF",
        "outputId": "53dcd505-6f47-449f-ea7f-eb4d0c73dce5"
      },
      "outputs": [
        {
          "output_type": "execute_result",
          "data": {
            "text/plain": [
              "((39073, 14), (9769, 14), (39073, 1), (9769, 1))"
            ]
          },
          "metadata": {},
          "execution_count": 10
        }
      ],
      "source": [
        "from sklearn.model_selection import train_test_split\n",
        "\n",
        "# Divisão dos dados em features e target\n",
        "X = adult_data\n",
        "y = adult.data.targets\n",
        "\n",
        "# Divisão em conjuntos de treino e teste\n",
        "X_train, X_test, y_train, y_test = train_test_split(X, y, test_size=0.2, random_state=42)\n",
        "\n",
        "# Informações sobre os conjuntos de dados divididos\n",
        "X_train.shape, X_test.shape, y_train.shape, y_test.shape"
      ]
    },
    {
      "cell_type": "markdown",
      "metadata": {
        "id": "kRabmITGFdWG"
      },
      "source": [
        "O conjunto de dados foi dividido em um conjunto de treinamento com 39.073 instâncias e um conjunto de teste com 9.769 instâncias. Com 48.842 instâncias no total, tem-se uma quantidade significativa de dados para usar um conjunto de validação ou aplicar a validação cruzada para uma avaliação mais robusta dos modelos. <br>\n",
        "\n",
        "A validação cruzada faz sentido em muitos cenários, especialmente quando temos um conjunto de dados limitado, pois maximiza a quantidade de dados utilizados para treinamento e permite uma melhor estimativa da performance do modelo em dados não vistos. No entanto, é um processo que exige mais tempo de computação. Dado o tamanho substancial do conjunto de dados, pode-se considerar a validação cruzada se for desejada uma avaliação mais completa do modelo ou se for realizar ajuste fino dos hiperparâmetros.\n",
        "\n",
        "Se for optado por não usar a validação cruzada, ainda é possível separar uma parte do conjunto de treino para criar um conjunto de validação. Isso ainda permitiria validar a generalização do modelo antes da avaliação final no conjunto de teste.\n",
        "\n",
        "**Ela será usada na etapa de comparação com outros modelos.**\n"
      ]
    },
    {
      "cell_type": "markdown",
      "metadata": {
        "id": "WJytgysfFdWG"
      },
      "source": [
        "### Transformação de dados"
      ]
    },
    {
      "cell_type": "markdown",
      "metadata": {
        "id": "R_hy6xbqFdWG"
      },
      "source": [
        "1. **Tratamento de Valores Faltantes:** Para colunas numéricas, valores faltantes são tratados utilizando a mediana, que é menos sensível a outliers do que a média. Para colunas categóricas, é usado um valor constante 'missing', permitindo que o modelo identifique a ausência de dados como uma característica.\n",
        "2. **Normalização e Padronização:** As colunas numéricas são normalizadas usando StandardScaler, o que é importante para modelos que são sensíveis à escala das variáveis, como SVMs ou k-nearest neighbors.\n",
        "3. **Codificação de Variáveis Categóricas:** As colunas categóricas são transformadas usando OneHotEncoder. Isso é apropriado porque as variáveis categóricas não têm uma ordem inerente que seria refletida por uma codificação numérica sequencial."
      ]
    },
    {
      "cell_type": "code",
      "execution_count": 11,
      "metadata": {
        "colab": {
          "base_uri": "https://localhost:8080/"
        },
        "id": "05E8cEyuFdWG",
        "outputId": "664c9c56-05e7-41eb-c4a8-5339220c70ad"
      },
      "outputs": [
        {
          "output_type": "execute_result",
          "data": {
            "text/plain": [
              "0.8519807554509161"
            ]
          },
          "metadata": {},
          "execution_count": 11
        }
      ],
      "source": [
        "from sklearn.compose import ColumnTransformer\n",
        "from sklearn.preprocessing import StandardScaler, OneHotEncoder\n",
        "from sklearn.pipeline import Pipeline\n",
        "from sklearn.impute import SimpleImputer\n",
        "from sklearn.preprocessing import FunctionTransformer\n",
        "\n",
        "# Transforma a saída esparsa em densa\n",
        "to_dense = FunctionTransformer(lambda x: x.toarray(), accept_sparse=True)\n",
        "\n",
        "# Identificar colunas numéricas e categóricas\n",
        "num_cols = ['age', 'fnlwgt', 'education-num', 'capital-gain', 'capital-loss', 'hours-per-week']\n",
        "cat_cols = ['workclass', 'education', 'marital-status', 'occupation', 'relationship', 'race', 'sex', 'native-country']\n",
        "\n",
        "# Criar transformadores para as colunas numéricas e categóricas\n",
        "num_transformer = Pipeline([\n",
        "    ('imputer', SimpleImputer(strategy='median')),  # Trata valores faltantes\n",
        "    ('scaler', StandardScaler())                   # Normaliza os dados\n",
        "])\n",
        "\n",
        "cat_transformer = Pipeline([\n",
        "    ('imputer', SimpleImputer(strategy='constant', fill_value='missing')),  # Trata valores faltantes\n",
        "    ('onehot', OneHotEncoder(handle_unknown='ignore')),   # Codifica variáveis categóricas\n",
        "    ('to_dense', to_dense)\n",
        "])\n",
        "\n",
        "# Combinar transformadores em um único pré-processador\n",
        "preprocessor = ColumnTransformer(\n",
        "    transformers=[\n",
        "        ('num', num_transformer, num_cols),\n",
        "        ('cat', cat_transformer, cat_cols)\n",
        "    ])\n",
        "\n",
        "# Criar um pipeline completo incluindo um classificador (vamos usar RandomForest como exemplo)\n",
        "from sklearn.ensemble import RandomForestClassifier\n",
        "\n",
        "rf_pipeline = Pipeline([\n",
        "    ('preprocessor', preprocessor),\n",
        "    ('classifier', RandomForestClassifier(random_state=42))\n",
        "])\n",
        "\n",
        "# Treinar o modelo no conjunto de treinamento\n",
        "rf_pipeline.fit(X_train, y_train)\n",
        "\n",
        "# Avaliar o modelo no conjunto de teste\n",
        "score = rf_pipeline.score(X_test, y_test)\n",
        "score"
      ]
    },
    {
      "cell_type": "markdown",
      "metadata": {
        "id": "9WW4RY5oFdWG"
      },
      "source": [
        "### Feature Selection\n",
        "\n",
        "Uma etapa de seleção de recursos foi realizada no Pipeline existente. Uma abordagem eficaz é usar o modelo RandomForestClassifier para avaliar a importância dos recursos e, em seguida, selecionar os recursos mais importantes. Uma maneira de fazer isso é usar o SelectFromModel, que seleciona os recursos com base na importância dos recursos calculada pelo modelo."
      ]
    },
    {
      "cell_type": "code",
      "execution_count": 12,
      "metadata": {
        "colab": {
          "base_uri": "https://localhost:8080/"
        },
        "id": "5Ta8YexLFdWH",
        "outputId": "5cd0e2ba-2daa-41db-9782-372711dad462"
      },
      "outputs": [
        {
          "output_type": "stream",
          "name": "stdout",
          "text": [
            "Score with feature selection: 0.8467601596888116\n"
          ]
        }
      ],
      "source": [
        "from sklearn.feature_selection import SelectFromModel\n",
        "\n",
        "# Atualização do pipeline para incluir a seleção de recursos\n",
        "rf_pipeline = Pipeline([\n",
        "    ('preprocessor', preprocessor),\n",
        "    ('feature_selection', SelectFromModel(RandomForestClassifier(n_estimators=100, random_state=42, n_jobs=-1))),\n",
        "    ('classifier', RandomForestClassifier(random_state=42))\n",
        "])\n",
        "\n",
        "# Treinamento do pipeline atualizado\n",
        "rf_pipeline.fit(X_train, y_train)\n",
        "\n",
        "# Avaliação do modelo\n",
        "score = rf_pipeline.score(X_test, y_test)\n",
        "print(\"Score with feature selection:\", score)"
      ]
    },
    {
      "cell_type": "markdown",
      "metadata": {
        "id": "Nl6uEe0aFdWH"
      },
      "source": [
        "Nesse trecho de código, SelectFromModel é usado após o pré-processamento para selecionar recursos com base em seu peso de importância no modelo Random Forest. Isso reduzirá a quantidade de atributos disponíveis para o modelo final, o que pode resultar em um modelo mais simples e possivelmente com melhor generalização."
      ]
    },
    {
      "cell_type": "markdown",
      "metadata": {
        "id": "NWJMMwdIFdWH"
      },
      "source": [
        "Agora, será executado este processo de seleção de recursos usando o conjunto de dados e o Pipeline fornecido anteriormente."
      ]
    },
    {
      "cell_type": "code",
      "execution_count": 13,
      "metadata": {
        "colab": {
          "base_uri": "https://localhost:8080/"
        },
        "id": "n59JulESFdWH",
        "outputId": "7332244c-d8a1-4036-bfb8-467e6778b5a3"
      },
      "outputs": [
        {
          "output_type": "execute_result",
          "data": {
            "text/plain": [
              "0.8489098167673252"
            ]
          },
          "metadata": {},
          "execution_count": 13
        }
      ],
      "source": [
        "from sklearn.feature_selection import SelectFromModel\n",
        "from sklearn.ensemble import RandomForestClassifier\n",
        "\n",
        "# Atualizando o pipeline para incluir feature selection com RandomForest\n",
        "# Considerando o tamanho do dataset e a complexidade do modelo, será usado um número menor de estimadores\n",
        "# para manter o processo gerenciável.\n",
        "rf_for_selection = RandomForestClassifier(n_estimators=50, random_state=42, n_jobs=-1)\n",
        "\n",
        "rf_pipeline_fs = Pipeline([\n",
        "    ('preprocessor', preprocessor),\n",
        "    ('feature_selection', SelectFromModel(rf_for_selection)),\n",
        "    ('classifier', RandomForestClassifier(random_state=42))\n",
        "])\n",
        "\n",
        "# Treinando o pipeline com feature selection\n",
        "rf_pipeline_fs.fit(X_train, y_train.values.ravel())\n",
        "\n",
        "# Avaliando o modelo com feature selection\n",
        "score_fs = rf_pipeline_fs.score(X_test, y_test)\n",
        "score_fs"
      ]
    },
    {
      "cell_type": "markdown",
      "metadata": {
        "id": "0yIS4ki0FdWH"
      },
      "source": [
        "A pontuação obtida foi de aproximadamente 0.848, ou 84.8% de acurácia.\n",
        "\n",
        "Aqui estão os detalhes do que foi feito:\n",
        "\n",
        "1. **Atualização do Pipeline para Incluir Feature Selection:** O pipeline foi atualizado para incluir um passo de seleção de recursos utilizando o SelectFromModel com RandomForestClassifier. Isso permite que o modelo identifique e mantenha somente as características mais importantes.\n",
        "2. **Configuração do RandomForest para Seleção de Recursos:** Um RandomForestClassifier com 50 estimadores foi utilizado para a seleção de recursos. O número reduzido de estimadores ajuda a tornar o processo de treinamento mais rápido, o que é adequado dado o tamanho do dataset e o poder computacional disponível (considerando que está sendo feito no Collab).\n",
        "3. **Treinamento do Pipeline:** O pipeline, incluindo o pré-processador, a seleção de recursos e o classificador, foi treinado com os dados de treino (X_train, y_train).\n",
        "4. **Avaliação do Modelo:** O modelo foi avaliado usando o método score no conjunto de teste (X_test, y_test), resultando na acurácia mencionada."
      ]
    },
    {
      "cell_type": "markdown",
      "metadata": {
        "id": "niD1PdfyFdWH"
      },
      "source": [
        "### Modelagem e treinamento"
      ]
    },
    {
      "cell_type": "markdown",
      "metadata": {
        "id": "OkHSjCphFdWI"
      },
      "source": [
        "**Seleção de Algoritmos**\n",
        "\n",
        "Alguns algoritmos possíveis para o problema são:\n",
        "\n",
        "- **Regressão Logística:** É um bom ponto de partida para qualquer problema de classificação. É fácil de implementar e interpretar e funciona bem para superfícies de decisão lineares.\n",
        "- **Random Forest:** É excelente para lidar com uma grande quantidade de dados e pode capturar interações complexas entre características. É menos propensa a overfitting do que árvores de decisão. (Já utilizado)\n",
        "- **Support Vector Machine (SVM):** Efetiva em espaços de alta dimensão e em casos onde o número de dimensões é maior que o número de amostras.\n",
        "- **Árvore de Decisão:** Um modelo intuitivo que usa uma abordagem de cima para baixo, dividindo os dados em ramificações até chegar a decisões claras. Bom para interpretabilidade, mas pode sofrer de overfitting se não for cuidadosamente regulado.\n",
        "- **Naive Bayes:** Baseado no teorema de Bayes, é particularmente bom para classificação em datasets de alta dimensão e dados de texto. Assume independência entre os preditores, o que pode ser uma simplificação excessiva na prática.\n",
        "- **KNN:** Algoritmo de aprendizado baseado em proximidade que classifica os dados com base na maioria dos votos de seus vizinhos mais próximos. É não-paramétrico e pode se adaptar a casos complexos, mas fica mais lento à medida que o tamanho do dataset aumenta."
      ]
    },
    {
      "cell_type": "code",
      "execution_count": 14,
      "metadata": {
        "id": "u7EcFJ1AFdWI"
      },
      "outputs": [],
      "source": [
        "from sklearn.model_selection import KFold\n",
        "\n",
        "# Criando os folds para a validação cruzada\n",
        "num_particoes = 10 # número de folds da validação cruzada\n",
        "kfold = KFold(n_splits=num_particoes, shuffle=True, random_state=7) # faz o particionamento em 10 folds"
      ]
    },
    {
      "cell_type": "markdown",
      "metadata": {
        "id": "v30SiOyvFdWI"
      },
      "source": [
        "Comparando com outros modelos"
      ]
    },
    {
      "cell_type": "code",
      "execution_count": 15,
      "metadata": {
        "colab": {
          "base_uri": "https://localhost:8080/",
          "height": 547
        },
        "id": "t8Ca2uzCFdWN",
        "outputId": "fb3680a5-11e9-4739-9ea2-19ceca4b9a19"
      },
      "outputs": [
        {
          "output_type": "stream",
          "name": "stdout",
          "text": [
            "KNN: 0.835231 (0.004423)\n",
            "CART: 0.818289 (0.004881)\n",
            "NB: 0.629233 (0.011360)\n",
            "LR: 0.852635 (0.004352)\n"
          ]
        },
        {
          "output_type": "display_data",
          "data": {
            "text/plain": [
              "<Figure size 640x480 with 1 Axes>"
            ],
            "image/png": "[encoded data removed]"
          },
          "metadata": {}
        }
      ],
      "source": [
        "import numpy as np\n",
        "import matplotlib.pyplot as plt\n",
        "from sklearn.model_selection import cross_val_score # para executar a validação cruzada\n",
        "from sklearn.metrics import accuracy_score # para a exibição da acurácia do modelo\n",
        "from sklearn.neighbors import KNeighborsClassifier # algoritmo KNN\n",
        "from sklearn.tree import DecisionTreeClassifier # algoritmo Árvore de Classificação\n",
        "from sklearn.naive_bayes import GaussianNB # algoritmo Naive Bayes\n",
        "from sklearn.svm import SVC # algoritmo SVM\n",
        "from sklearn.linear_model import LogisticRegression\n",
        "\n",
        "# Definindo uma seed global para esta célula de código\n",
        "np.random.seed(7)\n",
        "\n",
        "# Listas para armazenar os modelos, os resultados e os nomes dos modelos\n",
        "models = []\n",
        "results = []\n",
        "names = []\n",
        "\n",
        "# Criando um pipeline para cada modelo com o preprocessamento adequado\n",
        "knn_pipeline = Pipeline([\n",
        "    ('preprocessor', preprocessor),\n",
        "    ('classifier', KNeighborsClassifier())\n",
        "])\n",
        "\n",
        "cart_pipeline = Pipeline([\n",
        "    ('preprocessor', preprocessor),\n",
        "    ('classifier', DecisionTreeClassifier())\n",
        "])\n",
        "\n",
        "nb_pipeline = Pipeline([\n",
        "    ('preprocessor', preprocessor),\n",
        "    ('classifier', GaussianNB())\n",
        "])\n",
        "\n",
        "# svm_pipeline = Pipeline([\n",
        "#     ('preprocessor', preprocessor),\n",
        "#     ('classifier', SVC())\n",
        "# ])\n",
        "\n",
        "lr_pipeline = Pipeline([\n",
        "    ('preprocessor', preprocessor),\n",
        "    ('classifier', LogisticRegression(solver='liblinear', random_state=7))\n",
        "])\n",
        "\n",
        "# Preparando os modelos e adicionando-os à lista com os respectivos pipelines\n",
        "models.append(('KNN', knn_pipeline))\n",
        "models.append(('CART', cart_pipeline))\n",
        "models.append(('NB', nb_pipeline))\n",
        "# models.append(('SVM', svm_pipeline)) # Demorou muito para ser executado\n",
        "models.append(('LR', lr_pipeline))\n",
        "\n",
        "# Avaliando um modelo por vez\n",
        "for name, pipeline in models:\n",
        "  cv_results = cross_val_score(pipeline, X_train, y_train, cv=kfold, scoring='accuracy')\n",
        "  results.append(cv_results)\n",
        "  names.append(name)\n",
        "  msg = \"%s: %f (%f)\" % (name, cv_results.mean(), cv_results.std()) # média e desvio padrão dos 10 resultados da validação cruzada\n",
        "  print(msg)\n",
        "\n",
        "# Boxplot de comparação dos modelos\n",
        "fig = plt.figure()\n",
        "fig.suptitle('Comparação da Acurácia dos Modelos')\n",
        "ax = fig.add_subplot(111)\n",
        "plt.boxplot(results)\n",
        "ax.set_xticklabels(names)\n",
        "plt.show()\n",
        "\n",
        "\n",
        "# TEMPO ESTIMADO PARA EXECUÇÃO: 40 seg"
      ]
    },
    {
      "cell_type": "markdown",
      "metadata": {
        "id": "ZY6xug7GFdWN"
      },
      "source": [
        "### Otimização de hiperparâmetros\n",
        "\n",
        "Para otimizar os hiperparâmetros de um RandomForest no scikit-learn, é possível usar o GridSearchCV. Essa ferramenta permite testar automaticamente uma gama de valores de hiperparâmetros para encontrar a melhor combinação para o modelo."
      ]
    },
    {
      "cell_type": "code",
      "execution_count": 16,
      "metadata": {
        "colab": {
          "base_uri": "https://localhost:8080/"
        },
        "id": "JINS2Qo1FdWN",
        "outputId": "787b7c2b-65c7-4986-8f80-0f9dbea1171b"
      },
      "outputs": [
        {
          "output_type": "stream",
          "name": "stdout",
          "text": [
            "Fitting 5 folds for each of 16 candidates, totalling 80 fits\n",
            "Melhores hiperparâmetros: {'classifier__max_depth': None, 'classifier__max_features': 'sqrt', 'classifier__min_samples_leaf': 2, 'classifier__min_samples_split': 5, 'classifier__n_estimators': 150}\n",
            "Melhor score de validação cruzada: 0.8652264542814946\n"
          ]
        }
      ],
      "source": [
        "from sklearn.model_selection import GridSearchCV\n",
        "from sklearn.ensemble import RandomForestClassifier\n",
        "\n",
        "# OS PARÂMETROS ABAIXO DEMORARAM MUITO PARA EXECUTAR, ENTÃO FORAM USADOS PARÂMETROS MAIS SIMPLES\n",
        "# Definindo o espaço de hiperparâmetros para testar\n",
        "# param_grid = {\n",
        "#     'classifier__n_estimators': [100, 200, 300],  # Número de árvores\n",
        "#     'classifier__max_features': ['auto', 'sqrt'],  # Número máximo de recursos considerados para dividir um nó\n",
        "#     'classifier__max_depth': [None, 10, 20, 30],  # Profundidade máxima da árvore\n",
        "#     'classifier__min_samples_split': [2, 5, 10],  # Número mínimo de amostras necessárias para dividir um nó\n",
        "#     'classifier__min_samples_leaf': [1, 2, 4]  # Número mínimo de amostras necessárias em cada folha\n",
        "# }\n",
        "\n",
        "# Definindo um espaço de hiperparâmetros menor para testar\n",
        "param_grid = {\n",
        "    'classifier__n_estimators': [100, 150],  # Testando com apenas 2 números de árvores\n",
        "    'classifier__max_features': ['sqrt'],  # Testando com apenas 1 opção para max_features\n",
        "    'classifier__max_depth': [None, 20],  # Testando apenas sem limite ou um limite razoável para a profundidade\n",
        "    'classifier__min_samples_split': [2, 5],  # Reduzindo as opções para o número mínimo de amostras para split\n",
        "    'classifier__min_samples_leaf': [1, 2]  # Reduzindo as opções para o número mínimo de amostras por folha\n",
        "}\n",
        "\n",
        "# Criando o modelo RandomForest\n",
        "rf = RandomForestClassifier(random_state=42)\n",
        "\n",
        "# Criando o pipeline incluindo o pré-processador e o RandomForest\n",
        "pipeline = Pipeline([\n",
        "    ('preprocessor', preprocessor),\n",
        "    ('classifier', rf)\n",
        "])\n",
        "\n",
        "# Inicializando o GridSearchCV com o pipeline e o espaço de hiperparâmetros\n",
        "grid_search = GridSearchCV(pipeline, param_grid, cv=5, n_jobs=-1, verbose=2)\n",
        "\n",
        "# Ajustando o GridSearchCV aos dados de treino\n",
        "grid_search.fit(X_train, y_train)\n",
        "\n",
        "# Melhor combinação de hiperparâmetros encontrada\n",
        "best_params = grid_search.best_params_\n",
        "print('Melhores hiperparâmetros:', best_params)\n",
        "\n",
        "# Melhor score encontrado\n",
        "best_score = grid_search.best_score_\n",
        "print('Melhor score de validação cruzada:', best_score)\n",
        "\n",
        "\n",
        "# TEMPO ESTIMADO PARA EXECUÇÃO: 6 min"
      ]
    },
    {
      "cell_type": "markdown",
      "metadata": {
        "id": "HCZbpY3gFdWO"
      },
      "source": [
        "### Avaliação de Underfitting/Overfitting\n",
        "\n",
        "Para avaliar se há underfitting ou overfitting no modelo, é preciso comparar o desempenho dele nos conjuntos de treino e teste. Um modelo que está overfitting terá um desempenho muito melhor no conjunto de treino do que no conjunto de teste. Já um modelo que está underfitting não terá bom desempenho nem no conjunto de treino nem no conjunto de teste.\n",
        "\n",
        "Para realizar essa avaliação, foi utilizado o modelo com os melhores hiperparâmetros encontrados na otimização para treinar com o conjunto de treino e, em seguida, verificar a acurácia tanto no conjunto de treino quanto no de teste."
      ]
    },
    {
      "cell_type": "code",
      "execution_count": 17,
      "metadata": {
        "colab": {
          "base_uri": "https://localhost:8080/"
        },
        "id": "BkUaaR8bFdWO",
        "outputId": "00d02bd2-b079-469c-e0a8-6fc60441ed0f"
      },
      "outputs": [
        {
          "output_type": "stream",
          "name": "stdout",
          "text": [
            "Acurácia no conjunto de treino: 0.9010825890000768\n",
            "Acurácia no conjunto de teste: 0.8630361347118436\n"
          ]
        }
      ],
      "source": [
        "from sklearn.preprocessing import OneHotEncoder, LabelEncoder, StandardScaler\n",
        "from sklearn.compose import ColumnTransformer\n",
        "from sklearn.pipeline import Pipeline\n",
        "from sklearn.ensemble import RandomForestClassifier\n",
        "from sklearn.model_selection import train_test_split\n",
        "from sklearn.metrics import classification_report, confusion_matrix, accuracy_score, roc_auc_score\n",
        "\n",
        "# Codificação da variável alvo\n",
        "# label_encoder = LabelEncoder()\n",
        "# y_train_encoded = label_encoder.fit_transform(y_train)\n",
        "# y_test_encoded = label_encoder.transform(y_test)\n",
        "\n",
        "# Criando o modelo com os melhores hiperparâmetros\n",
        "best_rf = RandomForestClassifier(\n",
        "    n_estimators=best_params['classifier__n_estimators'],\n",
        "    max_features=best_params['classifier__max_features'],\n",
        "    max_depth=best_params['classifier__max_depth'],\n",
        "    min_samples_split=best_params['classifier__min_samples_split'],\n",
        "    min_samples_leaf=best_params['classifier__min_samples_leaf'],\n",
        "    random_state=42,\n",
        "    n_jobs=-1\n",
        ")\n",
        "\n",
        "# Caso o código anterior demore muito\n",
        "# best_rf = RandomForestClassifier(\n",
        "#     n_estimators=150,\n",
        "#     max_features='sqrt',\n",
        "#     max_depth=20,\n",
        "#     min_samples_split=5,\n",
        "#     min_samples_leaf=2,\n",
        "#     random_state=42,\n",
        "#     n_jobs=-1\n",
        "# )\n",
        "\n",
        "# Criação do pipeline\n",
        "rf_pipeline = Pipeline([\n",
        "    ('preprocessor', preprocessor),\n",
        "    ('classifier', best_rf)\n",
        "])\n",
        "\n",
        "# Treinamento do pipeline no conjunto de treino\n",
        "rf_pipeline.fit(X_train, y_train)\n",
        "\n",
        "# Avaliação do modelo nos conjuntos de treino e teste\n",
        "train_predictions = rf_pipeline.predict(X_train)\n",
        "test_predictions = rf_pipeline.predict(X_test)\n",
        "train_accuracy = accuracy_score(y_train, train_predictions)\n",
        "test_accuracy = accuracy_score(y_test, test_predictions)\n",
        "\n",
        "# Avaliando se há overfitting ou underfitting\n",
        "print(f\"Acurácia no conjunto de treino: {train_accuracy}\")\n",
        "print(f\"Acurácia no conjunto de teste: {test_accuracy}\")"
      ]
    },
    {
      "cell_type": "markdown",
      "metadata": {
        "id": "0yVPon_-FdWO"
      },
      "source": [
        "A acurácia no conjunto de treino (aproximadamente 90.11%) e no conjunto de teste (aproximadamente 86.30%) sugere que a diferença entre a acurácia do treino e do teste não é muito grande, o que geralmente é um bom sinal. Isso indica que o modelo é relativamente bem generalizável, ou seja, não há um overfitting significativo. Overfitting é caracterizado por uma alta acurácia no conjunto de treino e uma baixa acurácia no conjunto de teste."
      ]
    },
    {
      "cell_type": "markdown",
      "metadata": {
        "id": "prGoDMtpFdWO"
      },
      "source": [
        "### Ensembles"
      ]
    },
    {
      "cell_type": "markdown",
      "metadata": {
        "id": "a6n3mff3FdWO"
      },
      "source": [
        "**Voting Classifier:** Usar um VotingClassifier para combinar diferentes modelos de aprendizado de máquina. A ideia é que, ao combinar vários modelos distintos, o ensemble pode se beneficiar das forças individuais de cada um e mitigar suas fraquezas.\n",
        "\n",
        "**Bagging:** O Bagging é outra técnica de ensemble que treina o mesmo algoritmo em diferentes subconjuntos do dataset original e, em seguida, combina suas previsões. O próprio RandomForest é um exemplo de um modelo de bagging."
      ]
    },
    {
      "cell_type": "code",
      "execution_count": 18,
      "metadata": {
        "colab": {
          "base_uri": "https://localhost:8080/"
        },
        "id": "FazirHSCFdWP",
        "outputId": "aca5907b-0e71-4e99-b6fc-76e644357b6d"
      },
      "outputs": [
        {
          "output_type": "stream",
          "name": "stdout",
          "text": [
            "Acurácia do ensemble: 0.8419490224178524\n"
          ]
        }
      ],
      "source": [
        "from sklearn.ensemble import VotingClassifier\n",
        "from sklearn.linear_model import LogisticRegression\n",
        "from sklearn.svm import SVC\n",
        "\n",
        "# Inicializando os modelos individuais\n",
        "logreg_pipeline = Pipeline([\n",
        "    ('preprocessor', preprocessor),  # o mesmo preprocessor definido anteriormente\n",
        "    ('classifier', LogisticRegression(solver='liblinear', random_state=42))\n",
        "])\n",
        "\n",
        "knn_pipeline = Pipeline([\n",
        "    ('preprocessor', preprocessor),\n",
        "    ('classifier', KNeighborsClassifier())\n",
        "])\n",
        "\n",
        "cart_pipeline = Pipeline([\n",
        "    ('preprocessor', preprocessor),\n",
        "    ('classifier', DecisionTreeClassifier())\n",
        "])\n",
        "\n",
        "nb_pipeline = Pipeline([\n",
        "    ('preprocessor', preprocessor),\n",
        "    ('classifier', GaussianNB())\n",
        "])\n",
        "\n",
        "# Criando o ensemble de votação\n",
        "voting_clf = VotingClassifier(\n",
        "    estimators=[('lr', logreg_pipeline), ('knn', knn_pipeline), ('cart', cart_pipeline), ('nb', nb_pipeline), ('rf', rf_pipeline)],\n",
        "    voting='soft'\n",
        ")\n",
        "\n",
        "# Treinando o ensemble\n",
        "voting_clf.fit(X_train, y_train)\n",
        "\n",
        "# Avaliando o ensemble\n",
        "voting_preds = voting_clf.predict(X_test)\n",
        "voting_accuracy = accuracy_score(y_test, voting_preds)\n",
        "print(f\"Acurácia do ensemble: {voting_accuracy}\")\n",
        "\n",
        "# TEMPO ESTIMADO PARA EXECUÇÃO: 20 seg"
      ]
    },
    {
      "cell_type": "markdown",
      "metadata": {
        "id": "WElTOc5sFdWP"
      },
      "source": [
        "A acurácia do modelo de RandomForestClassifier foi bem próxima comparada ao ensemble com diversos modelos. Isso sugere que o RandomForest por si só já está fornecendo um bom desempenho, e o ensemble não melhorou significativamente a acurácia."
      ]
    },
    {
      "cell_type": "markdown",
      "metadata": {
        "id": "DGhv9zobFdWP"
      },
      "source": [
        "### Avaliação de Resultados\n",
        "\n",
        "As métricas devem refletir o que é importante para o problema de negócio. Para classificação binária, (prever se a renda excede 50K), as métricas típicas incluem:\n",
        "\n",
        "- Acurácia: Proporção de previsões corretas em relação ao total.\n",
        "- Precisão: Proporção de previsões positivas corretas em relação ao total de previsões positivas.\n",
        "- Recall: Proporção de previsões positivas corretas em relação ao total de casos positivos reais.\n",
        "- F1-Score: Média harmônica entre precisão e recall.\n",
        "- ROC-AUC: Área sob a curva da característica operacional do receptor."
      ]
    },
    {
      "cell_type": "code",
      "execution_count": 19,
      "metadata": {
        "colab": {
          "base_uri": "https://localhost:8080/"
        },
        "id": "1NIfeKeOFdWP",
        "outputId": "22157a0e-2533-4cab-ea8a-66604f67c454"
      },
      "outputs": [
        {
          "output_type": "stream",
          "name": "stdout",
          "text": [
            "Acurácia no conjunto de teste: 0.8630361347118436\n",
            "ROC-AUC no conjunto de teste: 0.9144192973985639\n",
            "              precision    recall  f1-score   support\n",
            "\n",
            "           0       0.88      0.94      0.91      7414\n",
            "           1       0.78      0.61      0.68      2355\n",
            "\n",
            "    accuracy                           0.86      9769\n",
            "   macro avg       0.83      0.78      0.80      9769\n",
            "weighted avg       0.86      0.86      0.86      9769\n",
            "\n"
          ]
        }
      ],
      "source": [
        "rf_pipeline.fit(X_train, y_train)\n",
        "\n",
        "# Avaliando o modelo com as métricas selecionadas\n",
        "from sklearn.metrics import classification_report, accuracy_score, roc_auc_score\n",
        "\n",
        "test_predictions = rf_pipeline.predict(X_test)\n",
        "test_proba = rf_pipeline.predict_proba(X_test)[:, 1]\n",
        "\n",
        "print(f\"Acurácia no conjunto de teste: {accuracy_score(y_test, test_predictions)}\")\n",
        "print(f\"ROC-AUC no conjunto de teste: {roc_auc_score(y_test, test_proba)}\")\n",
        "print(classification_report(y_test, test_predictions))"
      ]
    },
    {
      "cell_type": "markdown",
      "metadata": {
        "id": "qW2pMWcEFdWP"
      },
      "source": [
        "- **Acurácia:** A acurácia do modelo no conjunto de teste é de aproximadamente 86%. Isso significa que o modelo está prevendo corretamente a classe alvo (renda <=50K ou >50K) em 86% dos casos.\n",
        "\n",
        "- **ROC-AUC:** O valor da ROC-AUC é aproximadamente 0.9, que é um excelente resultado. Uma ROC-AUC de 1 representaria um modelo perfeito, enquanto um valor de 0.5 indicaria um desempenho não melhor que um chute aleatório. A sua ROC-AUC sugere que o modelo tem uma excelente capacidade de diferenciar entre as duas classes.\n",
        "\n",
        "- **Precision, Recall e F1-Score:**\n",
        "Para a classe 0 (renda <=50K), a precisão é alta (0.88), o que significa que quando o modelo prevê essa classe, ele está correto 88% das vezes. O recall também é alto (0.94), o que indica que o modelo captura 94% dos verdadeiros casos da classe 0.\n",
        "Para a classe 1 (renda >50K), a precisão é um pouco mais baixa (0.78), mas ainda assim robusta, indicando que as previsões positivas são confiáveis. No entanto, o recall é significativamente menor (0.61), o que sugere que o modelo está perdendo muitos verdadeiros casos da classe 1.\n",
        "\n",
        "- **F1-Score:** O F1-Score, que é a média harmônica entre precisão e recall, é bastante alto para a classe 0 (0.91) e mais baixo para a classe 1 (0.68). Isso geralmente acontece quando há um desbalanceamento entre as classes, o que parece ser o caso aqui, dado o suporte (número de ocorrências) significativamente maior para a classe 0.\n",
        "\n",
        "- **Suporte:** O 'suporte' mostra quantos exemplos de cada classe o modelo teve para fazer as previsões. A classe 0 tem muito mais exemplos (7414) do que a classe 1 (2355), o que indica um desbalanceamento de classe. Isso pode afetar o desempenho do modelo, pois ele tem mais dados para aprender a classe 0 do que a classe 1."
      ]
    },
    {
      "cell_type": "markdown",
      "metadata": {
        "id": "x4BHlH4iFdWQ"
      },
      "source": [
        "A acurácia dos outros modelos testados (KNN, CART, NB, LR) foi menor do que a do Random Forest, apesar do problema citado em relação a classe 1 (renda >50K). Considerando que é um dos algoritmos de aprendizado de máquina mais poderosos e versáteis disponíveis e é um tipo de ensemble learning method, especificamente um método de bagging, onde a decisão final é feita com base na maioria dos votos dos diversos decision trees, ele se torna uma boa opção para esse problema. Além disso, o desempenho mostrado no trabalho é bastante semelhante ao apresentado na página do dataset na parte de \"Baseline Model Performance\"."
      ]
    }
  ],
  "metadata": {
    "kernelspec": {
      "display_name": "base",
      "language": "python",
      "name": "python3"
    },
    "language_info": {
      "codemirror_mode": {
        "name": "ipython",
        "version": 3
      },
      "file_extension": ".py",
      "mimetype": "text/x-python",
      "name": "python",
      "nbconvert_exporter": "python",
      "pygments_lexer": "ipython3",
      "version": "3.11.5"
    },
    "colab": {
      "provenance": [],
      "include_colab_link": true
    }
  },
  "nbformat": 4,
  "nbformat_minor": 0
}